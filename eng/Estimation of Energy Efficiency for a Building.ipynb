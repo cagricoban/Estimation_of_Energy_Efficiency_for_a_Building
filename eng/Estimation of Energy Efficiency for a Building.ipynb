{
 "cells": [
  {
   "cell_type": "markdown",
   "id": "eae4c0dd-fbba-4aec-ba33-d8f2b4d3332c",
   "metadata": {},
   "source": [
    "# Estimation of Energy Efficiency for a Building"
   ]
  },
  {
   "cell_type": "markdown",
   "id": "81ef36c5-fd61-4770-93a9-eb103c33331f",
   "metadata": {},
   "source": [
    "Dataset Information:\n",
    "\n",
    "We utilize 12 different building shapes simulated in Ecotect for energy analysis. The dataset comprises a total of 768 buildings, each structured with 10 variables. Among these variables are the dependent variables we aim to predict: heating load and cooling load.\n",
    "\n",
    "Variables:\n",
    "\n",
    "- x1 relative compactness\n",
    "- x2 surface area\n",
    "- x3 wall area\n",
    "- x4 roof area\n",
    "- x5 overall height\n",
    "- x6 orientation\n",
    "- x7 glazing area\n",
    "- x8 glazing area distribution\n",
    "- y1 Heating Load\n",
    "- y2 Cooling Load"
   ]
  },
  {
   "cell_type": "markdown",
   "id": "ba024d87",
   "metadata": {},
   "source": [
    "\n",
    "# Section 1: EXPLORATORY DATA ANALYSIS\n",
    "- Reading the Dataset\n",
    "- Column Names of the Dataset\n",
    "- Renaming Column Names of the Dataset\n",
    "- Transposed Descriptive Statistics of the Dataset\n",
    "- Presentation of Descriptive Statistics of the Dataset in Tabular Form\n",
    "- Overview of the Dataset\n",
    "- Detection of Numerical and Categorical Variables in the Dataset\n",
    "- Examination of Categorical Variables\n",
    "- Examination of Numerical Variables\n",
    "- Target Variable Analysis\n",
    "- Correlation Analysis\n",
    "# Section 2: FEATURE ENGINEERING\n",
    "- Outlier Analysis\n",
    "- Missing Values\n",
    "- Label Encoding\n",
    "- Feature Scaling\n",
    "# Section 3: MODEL BUILDING AND PERFORMANCE\n",
    "- Splitting into Training - Validation - Test datasets\n",
    "- Setting up Base Models\n",
    "- Hyperparameter Optimization\n",
    "- Ensemble Model Created from the Best Models\n",
    "- Error Rate in the Most Successful Model\n",
    "- Model Logging\n",
    "- Model Invocation"
   ]
  },
  {
   "cell_type": "markdown",
   "id": "3bff87c9",
   "metadata": {},
   "source": [
    "## SECTİON 1\n",
    "## 1.  EXPLORATORY DATA ANALYSIS"
   ]
  },
  {
   "cell_type": "markdown",
   "id": "ecaee91e",
   "metadata": {},
   "source": [
    "### Required Libraries"
   ]
  },
  {
   "cell_type": "code",
   "execution_count": 1,
   "id": "7b0eb7a3-916b-416e-ba0d-d5755eb05fa7",
   "metadata": {},
   "outputs": [],
   "source": [
    "import numpy as np# Efficient Usage of Multidimensional Arrays and Matrices\n",
    "import pandas as pd # For DataFrame Operations\n",
    "\n",
    "import random\n",
    "\n",
    "#######Data Visualization#########\n",
    "import matplotlib.pyplot as plt\n",
    "import seaborn as sns\n",
    "\n",
    "#######The library commonly used for success metrics#########\n",
    "from sklearn.metrics import mean_squared_error,accuracy_score, precision_score, recall_score, f1_score,roc_auc_score\n",
    "\n",
    "\n",
    "from sklearn.cluster import KMeans\n",
    "from yellowbrick.cluster import KElbowVisualizer\n",
    "from scipy.cluster.hierarchy import linkage\n",
    "from scipy.cluster.hierarchy import dendrogram\n",
    "from sklearn.decomposition import PCA\n",
    "\n",
    "#The library commonly used for hyperparameter optimization\n",
    "from sklearn.model_selection import GridSearchCV, cross_validate\n",
    "\n",
    "#The library commonly used for splitting the dataset into training set\n",
    "from sklearn.model_selection import train_test_split\n",
    "\n",
    "#Label Encoding Process\n",
    "from sklearn.preprocessing import LabelEncoder\n",
    "\n",
    "#The library used to scale the data to a specific range\n",
    "from sklearn.preprocessing import MinMaxScaler, LabelEncoder, StandardScaler, RobustScaler\n",
    "\n"
   ]
  },
  {
   "cell_type": "markdown",
   "id": "ddb81432",
   "metadata": {},
   "source": [
    "### 1.1. Reading the Dataset\n"
   ]
  },
  {
   "cell_type": "code",
   "execution_count": 2,
   "id": "a5ec88fc",
   "metadata": {
    "scrolled": true
   },
   "outputs": [
    {
     "data": {
      "text/html": [
       "<div>\n",
       "<style scoped>\n",
       "    .dataframe tbody tr th:only-of-type {\n",
       "        vertical-align: middle;\n",
       "    }\n",
       "\n",
       "    .dataframe tbody tr th {\n",
       "        vertical-align: top;\n",
       "    }\n",
       "\n",
       "    .dataframe thead th {\n",
       "        text-align: right;\n",
       "    }\n",
       "</style>\n",
       "<table border=\"1\" class=\"dataframe\">\n",
       "  <thead>\n",
       "    <tr style=\"text-align: right;\">\n",
       "      <th></th>\n",
       "      <th>X1</th>\n",
       "      <th>X2</th>\n",
       "      <th>X3</th>\n",
       "      <th>X4</th>\n",
       "      <th>X5</th>\n",
       "      <th>X6</th>\n",
       "      <th>X7</th>\n",
       "      <th>X8</th>\n",
       "      <th>Y1</th>\n",
       "    </tr>\n",
       "  </thead>\n",
       "  <tbody>\n",
       "    <tr>\n",
       "      <th>0</th>\n",
       "      <td>0.98</td>\n",
       "      <td>514.5</td>\n",
       "      <td>294.0</td>\n",
       "      <td>110.25</td>\n",
       "      <td>7.0</td>\n",
       "      <td>2</td>\n",
       "      <td>0.0</td>\n",
       "      <td>0</td>\n",
       "      <td>15.55</td>\n",
       "    </tr>\n",
       "    <tr>\n",
       "      <th>1</th>\n",
       "      <td>0.98</td>\n",
       "      <td>514.5</td>\n",
       "      <td>294.0</td>\n",
       "      <td>110.25</td>\n",
       "      <td>7.0</td>\n",
       "      <td>3</td>\n",
       "      <td>0.0</td>\n",
       "      <td>0</td>\n",
       "      <td>15.55</td>\n",
       "    </tr>\n",
       "    <tr>\n",
       "      <th>2</th>\n",
       "      <td>0.98</td>\n",
       "      <td>514.5</td>\n",
       "      <td>294.0</td>\n",
       "      <td>110.25</td>\n",
       "      <td>7.0</td>\n",
       "      <td>4</td>\n",
       "      <td>0.0</td>\n",
       "      <td>0</td>\n",
       "      <td>15.55</td>\n",
       "    </tr>\n",
       "    <tr>\n",
       "      <th>3</th>\n",
       "      <td>0.98</td>\n",
       "      <td>514.5</td>\n",
       "      <td>294.0</td>\n",
       "      <td>110.25</td>\n",
       "      <td>7.0</td>\n",
       "      <td>5</td>\n",
       "      <td>0.0</td>\n",
       "      <td>0</td>\n",
       "      <td>15.55</td>\n",
       "    </tr>\n",
       "    <tr>\n",
       "      <th>4</th>\n",
       "      <td>0.90</td>\n",
       "      <td>563.5</td>\n",
       "      <td>318.5</td>\n",
       "      <td>122.50</td>\n",
       "      <td>7.0</td>\n",
       "      <td>2</td>\n",
       "      <td>0.0</td>\n",
       "      <td>0</td>\n",
       "      <td>20.84</td>\n",
       "    </tr>\n",
       "  </tbody>\n",
       "</table>\n",
       "</div>"
      ],
      "text/plain": [
       "     X1     X2     X3      X4   X5  X6   X7  X8     Y1\n",
       "0  0.98  514.5  294.0  110.25  7.0   2  0.0   0  15.55\n",
       "1  0.98  514.5  294.0  110.25  7.0   3  0.0   0  15.55\n",
       "2  0.98  514.5  294.0  110.25  7.0   4  0.0   0  15.55\n",
       "3  0.98  514.5  294.0  110.25  7.0   5  0.0   0  15.55\n",
       "4  0.90  563.5  318.5  122.50  7.0   2  0.0   0  20.84"
      ]
     },
     "execution_count": 2,
     "metadata": {},
     "output_type": "execute_result"
    }
   ],
   "source": [
    "df=pd.read_csv(\"Estimation_of_Energy_Efficiency_for_a_Building.csv\")\n",
    "df.drop('Y2', axis=1, inplace=True)\n",
    "df.head()"
   ]
  },
  {
   "cell_type": "markdown",
   "id": "da2d5725",
   "metadata": {},
   "source": [
    "### 1.2. Column Names of the Dataset"
   ]
  },
  {
   "cell_type": "code",
   "execution_count": 3,
   "id": "e2e274f3-6f59-4cf9-b9ff-6b8ff0af567b",
   "metadata": {},
   "outputs": [
    {
     "data": {
      "text/plain": [
       "['X1', 'X2', 'X3', 'X4', 'X5', 'X6', 'X7', 'X8', 'Y1']"
      ]
     },
     "execution_count": 3,
     "metadata": {},
     "output_type": "execute_result"
    }
   ],
   "source": [
    "df.columns.to_list()#kolon isimleri"
   ]
  },
  {
   "cell_type": "markdown",
   "id": "ec366eae",
   "metadata": {},
   "source": [
    "### 1.3. Renaming Column Names of the Dataset"
   ]
  },
  {
   "cell_type": "code",
   "execution_count": 4,
   "id": "44f171d0-3b85-44dc-8933-e6ef72dfb3ea",
   "metadata": {
    "scrolled": true
   },
   "outputs": [
    {
     "data": {
      "text/html": [
       "<div>\n",
       "<style scoped>\n",
       "    .dataframe tbody tr th:only-of-type {\n",
       "        vertical-align: middle;\n",
       "    }\n",
       "\n",
       "    .dataframe tbody tr th {\n",
       "        vertical-align: top;\n",
       "    }\n",
       "\n",
       "    .dataframe thead th {\n",
       "        text-align: right;\n",
       "    }\n",
       "</style>\n",
       "<table border=\"1\" class=\"dataframe\">\n",
       "  <thead>\n",
       "    <tr style=\"text-align: right;\">\n",
       "      <th></th>\n",
       "      <th>relative_compactness</th>\n",
       "      <th>surface_area</th>\n",
       "      <th>wall_area</th>\n",
       "      <th>roof_area</th>\n",
       "      <th>overall_height</th>\n",
       "      <th>orientation</th>\n",
       "      <th>glazing_area</th>\n",
       "      <th>glazing_area_distribution</th>\n",
       "      <th>heating_load</th>\n",
       "    </tr>\n",
       "  </thead>\n",
       "  <tbody>\n",
       "    <tr>\n",
       "      <th>0</th>\n",
       "      <td>0.98</td>\n",
       "      <td>514.5</td>\n",
       "      <td>294.0</td>\n",
       "      <td>110.25</td>\n",
       "      <td>7.0</td>\n",
       "      <td>2</td>\n",
       "      <td>0.0</td>\n",
       "      <td>0</td>\n",
       "      <td>15.55</td>\n",
       "    </tr>\n",
       "    <tr>\n",
       "      <th>1</th>\n",
       "      <td>0.98</td>\n",
       "      <td>514.5</td>\n",
       "      <td>294.0</td>\n",
       "      <td>110.25</td>\n",
       "      <td>7.0</td>\n",
       "      <td>3</td>\n",
       "      <td>0.0</td>\n",
       "      <td>0</td>\n",
       "      <td>15.55</td>\n",
       "    </tr>\n",
       "    <tr>\n",
       "      <th>2</th>\n",
       "      <td>0.98</td>\n",
       "      <td>514.5</td>\n",
       "      <td>294.0</td>\n",
       "      <td>110.25</td>\n",
       "      <td>7.0</td>\n",
       "      <td>4</td>\n",
       "      <td>0.0</td>\n",
       "      <td>0</td>\n",
       "      <td>15.55</td>\n",
       "    </tr>\n",
       "    <tr>\n",
       "      <th>3</th>\n",
       "      <td>0.98</td>\n",
       "      <td>514.5</td>\n",
       "      <td>294.0</td>\n",
       "      <td>110.25</td>\n",
       "      <td>7.0</td>\n",
       "      <td>5</td>\n",
       "      <td>0.0</td>\n",
       "      <td>0</td>\n",
       "      <td>15.55</td>\n",
       "    </tr>\n",
       "    <tr>\n",
       "      <th>4</th>\n",
       "      <td>0.90</td>\n",
       "      <td>563.5</td>\n",
       "      <td>318.5</td>\n",
       "      <td>122.50</td>\n",
       "      <td>7.0</td>\n",
       "      <td>2</td>\n",
       "      <td>0.0</td>\n",
       "      <td>0</td>\n",
       "      <td>20.84</td>\n",
       "    </tr>\n",
       "  </tbody>\n",
       "</table>\n",
       "</div>"
      ],
      "text/plain": [
       "   relative_compactness  surface_area  wall_area  roof_area  overall_height  \\\n",
       "0                  0.98         514.5      294.0     110.25             7.0   \n",
       "1                  0.98         514.5      294.0     110.25             7.0   \n",
       "2                  0.98         514.5      294.0     110.25             7.0   \n",
       "3                  0.98         514.5      294.0     110.25             7.0   \n",
       "4                  0.90         563.5      318.5     122.50             7.0   \n",
       "\n",
       "   orientation  glazing_area  glazing_area_distribution  heating_load  \n",
       "0            2           0.0                          0         15.55  \n",
       "1            3           0.0                          0         15.55  \n",
       "2            4           0.0                          0         15.55  \n",
       "3            5           0.0                          0         15.55  \n",
       "4            2           0.0                          0         20.84  "
      ]
     },
     "execution_count": 4,
     "metadata": {},
     "output_type": "execute_result"
    }
   ],
   "source": [
    "#değişken(kolon) ismi değiştirme\n",
    "\n",
    "\n",
    "new_name = {\n",
    "    'X1': 'relative_compactness',\n",
    "    'X2': 'surface_area',\n",
    "    'X3': 'wall_area',\n",
    "    'X4': 'roof_area',\n",
    "    'X5': 'overall_height',\n",
    "    'X6': 'orientation',\n",
    "    'X7': 'glazing_area',\n",
    "    'X8': 'glazing_area_distribution',\n",
    "    'Y1': 'heating_load',\n",
    "}\n",
    "\n",
    "\n",
    "\n",
    "df.rename(columns=new_name, inplace=True)\n",
    "df.head()"
   ]
  },
  {
   "cell_type": "markdown",
   "id": "c98e78c5",
   "metadata": {},
   "source": [
    "### 1.4. Transposed Descriptive Statistics of the Dataset\n"
   ]
  },
  {
   "cell_type": "code",
   "execution_count": 5,
   "id": "c5fbd5d4-0403-4564-b7c7-8678656169b8",
   "metadata": {},
   "outputs": [
    {
     "data": {
      "text/html": [
       "<div>\n",
       "<style scoped>\n",
       "    .dataframe tbody tr th:only-of-type {\n",
       "        vertical-align: middle;\n",
       "    }\n",
       "\n",
       "    .dataframe tbody tr th {\n",
       "        vertical-align: top;\n",
       "    }\n",
       "\n",
       "    .dataframe thead th {\n",
       "        text-align: right;\n",
       "    }\n",
       "</style>\n",
       "<table border=\"1\" class=\"dataframe\">\n",
       "  <thead>\n",
       "    <tr style=\"text-align: right;\">\n",
       "      <th></th>\n",
       "      <th>count</th>\n",
       "      <th>mean</th>\n",
       "      <th>std</th>\n",
       "      <th>min</th>\n",
       "      <th>25%</th>\n",
       "      <th>50%</th>\n",
       "      <th>75%</th>\n",
       "      <th>max</th>\n",
       "    </tr>\n",
       "  </thead>\n",
       "  <tbody>\n",
       "    <tr>\n",
       "      <th>relative_compactness</th>\n",
       "      <td>768.0</td>\n",
       "      <td>0.764167</td>\n",
       "      <td>0.105777</td>\n",
       "      <td>0.62</td>\n",
       "      <td>0.6825</td>\n",
       "      <td>0.75</td>\n",
       "      <td>0.8300</td>\n",
       "      <td>0.98</td>\n",
       "    </tr>\n",
       "    <tr>\n",
       "      <th>surface_area</th>\n",
       "      <td>768.0</td>\n",
       "      <td>671.708333</td>\n",
       "      <td>88.086116</td>\n",
       "      <td>514.50</td>\n",
       "      <td>606.3750</td>\n",
       "      <td>673.75</td>\n",
       "      <td>741.1250</td>\n",
       "      <td>808.50</td>\n",
       "    </tr>\n",
       "    <tr>\n",
       "      <th>wall_area</th>\n",
       "      <td>768.0</td>\n",
       "      <td>318.500000</td>\n",
       "      <td>43.626481</td>\n",
       "      <td>245.00</td>\n",
       "      <td>294.0000</td>\n",
       "      <td>318.50</td>\n",
       "      <td>343.0000</td>\n",
       "      <td>416.50</td>\n",
       "    </tr>\n",
       "    <tr>\n",
       "      <th>roof_area</th>\n",
       "      <td>768.0</td>\n",
       "      <td>176.604167</td>\n",
       "      <td>45.165950</td>\n",
       "      <td>110.25</td>\n",
       "      <td>140.8750</td>\n",
       "      <td>183.75</td>\n",
       "      <td>220.5000</td>\n",
       "      <td>220.50</td>\n",
       "    </tr>\n",
       "    <tr>\n",
       "      <th>overall_height</th>\n",
       "      <td>768.0</td>\n",
       "      <td>5.250000</td>\n",
       "      <td>1.751140</td>\n",
       "      <td>3.50</td>\n",
       "      <td>3.5000</td>\n",
       "      <td>5.25</td>\n",
       "      <td>7.0000</td>\n",
       "      <td>7.00</td>\n",
       "    </tr>\n",
       "    <tr>\n",
       "      <th>orientation</th>\n",
       "      <td>768.0</td>\n",
       "      <td>3.500000</td>\n",
       "      <td>1.118763</td>\n",
       "      <td>2.00</td>\n",
       "      <td>2.7500</td>\n",
       "      <td>3.50</td>\n",
       "      <td>4.2500</td>\n",
       "      <td>5.00</td>\n",
       "    </tr>\n",
       "    <tr>\n",
       "      <th>glazing_area</th>\n",
       "      <td>768.0</td>\n",
       "      <td>0.234375</td>\n",
       "      <td>0.133221</td>\n",
       "      <td>0.00</td>\n",
       "      <td>0.1000</td>\n",
       "      <td>0.25</td>\n",
       "      <td>0.4000</td>\n",
       "      <td>0.40</td>\n",
       "    </tr>\n",
       "    <tr>\n",
       "      <th>glazing_area_distribution</th>\n",
       "      <td>768.0</td>\n",
       "      <td>2.812500</td>\n",
       "      <td>1.550960</td>\n",
       "      <td>0.00</td>\n",
       "      <td>1.7500</td>\n",
       "      <td>3.00</td>\n",
       "      <td>4.0000</td>\n",
       "      <td>5.00</td>\n",
       "    </tr>\n",
       "    <tr>\n",
       "      <th>heating_load</th>\n",
       "      <td>768.0</td>\n",
       "      <td>22.307201</td>\n",
       "      <td>10.090196</td>\n",
       "      <td>6.01</td>\n",
       "      <td>12.9925</td>\n",
       "      <td>18.95</td>\n",
       "      <td>31.6675</td>\n",
       "      <td>43.10</td>\n",
       "    </tr>\n",
       "  </tbody>\n",
       "</table>\n",
       "</div>"
      ],
      "text/plain": [
       "                           count        mean        std     min       25%  \\\n",
       "relative_compactness       768.0    0.764167   0.105777    0.62    0.6825   \n",
       "surface_area               768.0  671.708333  88.086116  514.50  606.3750   \n",
       "wall_area                  768.0  318.500000  43.626481  245.00  294.0000   \n",
       "roof_area                  768.0  176.604167  45.165950  110.25  140.8750   \n",
       "overall_height             768.0    5.250000   1.751140    3.50    3.5000   \n",
       "orientation                768.0    3.500000   1.118763    2.00    2.7500   \n",
       "glazing_area               768.0    0.234375   0.133221    0.00    0.1000   \n",
       "glazing_area_distribution  768.0    2.812500   1.550960    0.00    1.7500   \n",
       "heating_load               768.0   22.307201  10.090196    6.01   12.9925   \n",
       "\n",
       "                              50%       75%     max  \n",
       "relative_compactness         0.75    0.8300    0.98  \n",
       "surface_area               673.75  741.1250  808.50  \n",
       "wall_area                  318.50  343.0000  416.50  \n",
       "roof_area                  183.75  220.5000  220.50  \n",
       "overall_height               5.25    7.0000    7.00  \n",
       "orientation                  3.50    4.2500    5.00  \n",
       "glazing_area                 0.25    0.4000    0.40  \n",
       "glazing_area_distribution    3.00    4.0000    5.00  \n",
       "heating_load                18.95   31.6675   43.10  "
      ]
     },
     "execution_count": 5,
     "metadata": {},
     "output_type": "execute_result"
    }
   ],
   "source": [
    "df.describe().T"
   ]
  },
  {
   "cell_type": "markdown",
   "id": "cadb05f7",
   "metadata": {},
   "source": [
    "### 1.5. Presentation of Descriptive Statistics of the Dataset in Tabular Form"
   ]
  },
  {
   "cell_type": "code",
   "execution_count": 6,
   "id": "432cefa9",
   "metadata": {},
   "outputs": [
    {
     "name": "stdout",
     "output_type": "stream",
     "text": [
      "╒═══════╤════════════════════════╤════════════════╤═════════════╤═════════════╤══════════════════╤═══════════════╤════════════════╤═════════════════════════════╤════════════════╕\n",
      "│       │  relative_compactness  │  surface_area  │  wall_area  │  roof_area  │  overall_height  │  orientation  │  glazing_area  │  glazing_area_distribution  │  heating_load  │\n",
      "╞═══════╪════════════════════════╪════════════════╪═════════════╪═════════════╪══════════════════╪═══════════════╪════════════════╪═════════════════════════════╪════════════════╡\n",
      "│ count │          768           │      768       │     768     │     768     │       768        │      768      │      768       │             768             │      768       │\n",
      "├───────┼────────────────────────┼────────────────┼─────────────┼─────────────┼──────────────────┼───────────────┼────────────────┼─────────────────────────────┼────────────────┤\n",
      "│ mean  │        0.764167        │    671.708     │    318.5    │   176.604   │       5.25       │      3.5      │    0.234375    │           2.8125            │    22.3072     │\n",
      "├───────┼────────────────────────┼────────────────┼─────────────┼─────────────┼──────────────────┼───────────────┼────────────────┼─────────────────────────────┼────────────────┤\n",
      "│  std  │        0.105777        │    88.0861     │   43.6265   │   45.166    │     1.75114      │    1.11876    │    0.133221    │           1.55096           │    10.0902     │\n",
      "├───────┼────────────────────────┼────────────────┼─────────────┼─────────────┼──────────────────┼───────────────┼────────────────┼─────────────────────────────┼────────────────┤\n",
      "│  min  │          0.62          │     514.5      │     245     │   110.25    │       3.5        │       2       │       0        │              0              │      6.01      │\n",
      "├───────┼────────────────────────┼────────────────┼─────────────┼─────────────┼──────────────────┼───────────────┼────────────────┼─────────────────────────────┼────────────────┤\n",
      "│  25%  │         0.6825         │    606.375     │     294     │   140.875   │       3.5        │     2.75      │      0.1       │            1.75             │    12.9925     │\n",
      "├───────┼────────────────────────┼────────────────┼─────────────┼─────────────┼──────────────────┼───────────────┼────────────────┼─────────────────────────────┼────────────────┤\n",
      "│  50%  │          0.75          │     673.75     │    318.5    │   183.75    │       5.25       │      3.5      │      0.25      │              3              │     18.95      │\n",
      "├───────┼────────────────────────┼────────────────┼─────────────┼─────────────┼──────────────────┼───────────────┼────────────────┼─────────────────────────────┼────────────────┤\n",
      "│  75%  │          0.83          │    741.125     │     343     │    220.5    │        7         │     4.25      │      0.4       │              4              │    31.6675     │\n",
      "├───────┼────────────────────────┼────────────────┼─────────────┼─────────────┼──────────────────┼───────────────┼────────────────┼─────────────────────────────┼────────────────┤\n",
      "│  max  │          0.98          │     808.5      │    416.5    │    220.5    │        7         │       5       │      0.4       │              5              │      43.1      │\n",
      "╘═══════╧════════════════════════╧════════════════╧═════════════╧═════════════╧══════════════════╧═══════════════╧════════════════╧═════════════════════════════╧════════════════╛\n"
     ]
    }
   ],
   "source": [
    "from tabulate import tabulate\n",
    "betimsel_istatistikler = df.describe()\n",
    "table = tabulate(betimsel_istatistikler, headers='keys', tablefmt='fancy_grid',numalign='center',stralign='center')\n",
    "print(table)"
   ]
  },
  {
   "cell_type": "markdown",
   "id": "f12eb6ff",
   "metadata": {},
   "source": [
    "### 1.6. Overview of the Dataset"
   ]
  },
  {
   "cell_type": "code",
   "execution_count": 7,
   "id": "3939d476-a525-480a-912e-ced3d8266494",
   "metadata": {},
   "outputs": [
    {
     "name": "stdout",
     "output_type": "stream",
     "text": [
      "##################### Shape #####################\n",
      "(768, 9)\n",
      "##################### Types #####################\n",
      "relative_compactness         float64\n",
      "surface_area                 float64\n",
      "wall_area                    float64\n",
      "roof_area                    float64\n",
      "overall_height               float64\n",
      "orientation                    int64\n",
      "glazing_area                 float64\n",
      "glazing_area_distribution      int64\n",
      "heating_load                 float64\n",
      "dtype: object\n",
      "##################### Head #####################\n",
      "   relative_compactness  surface_area  wall_area  roof_area  overall_height  \\\n",
      "0                  0.98         514.5      294.0     110.25             7.0   \n",
      "1                  0.98         514.5      294.0     110.25             7.0   \n",
      "2                  0.98         514.5      294.0     110.25             7.0   \n",
      "3                  0.98         514.5      294.0     110.25             7.0   \n",
      "4                  0.90         563.5      318.5     122.50             7.0   \n",
      "\n",
      "   orientation  glazing_area  glazing_area_distribution  heating_load  \n",
      "0            2           0.0                          0         15.55  \n",
      "1            3           0.0                          0         15.55  \n",
      "2            4           0.0                          0         15.55  \n",
      "3            5           0.0                          0         15.55  \n",
      "4            2           0.0                          0         20.84  \n",
      "##################### Tail #####################\n",
      "     relative_compactness  surface_area  wall_area  roof_area  overall_height  \\\n",
      "763                  0.64         784.0      343.0      220.5             3.5   \n",
      "764                  0.62         808.5      367.5      220.5             3.5   \n",
      "765                  0.62         808.5      367.5      220.5             3.5   \n",
      "766                  0.62         808.5      367.5      220.5             3.5   \n",
      "767                  0.62         808.5      367.5      220.5             3.5   \n",
      "\n",
      "     orientation  glazing_area  glazing_area_distribution  heating_load  \n",
      "763            5           0.4                          5         17.88  \n",
      "764            2           0.4                          5         16.54  \n",
      "765            3           0.4                          5         16.44  \n",
      "766            4           0.4                          5         16.48  \n",
      "767            5           0.4                          5         16.64  \n",
      "##################### NA #####################\n",
      "relative_compactness         0\n",
      "surface_area                 0\n",
      "wall_area                    0\n",
      "roof_area                    0\n",
      "overall_height               0\n",
      "orientation                  0\n",
      "glazing_area                 0\n",
      "glazing_area_distribution    0\n",
      "heating_load                 0\n",
      "dtype: int64\n",
      "##################### Quantiles #####################\n",
      "                             0.00      0.05    0.50    0.95      0.99    1.00\n",
      "relative_compactness         0.62    0.6200    0.75    0.98    0.9800    0.98\n",
      "surface_area               514.50  514.5000  673.75  808.50  808.5000  808.50\n",
      "wall_area                  245.00  245.0000  318.50  416.50  416.5000  416.50\n",
      "roof_area                  110.25  110.2500  183.75  220.50  220.5000  220.50\n",
      "overall_height               3.50    3.5000    5.25    7.00    7.0000    7.00\n",
      "orientation                  2.00    2.0000    3.50    5.00    5.0000    5.00\n",
      "glazing_area                 0.00    0.0000    0.25    0.40    0.4000    0.40\n",
      "glazing_area_distribution    0.00    0.0000    3.00    5.00    5.0000    5.00\n",
      "heating_load                 6.01   10.4635   18.95   39.86   42.0899   43.10\n",
      "<class 'pandas.core.frame.DataFrame'>\n",
      "RangeIndex: 768 entries, 0 to 767\n",
      "Data columns (total 9 columns):\n",
      " #   Column                     Non-Null Count  Dtype  \n",
      "---  ------                     --------------  -----  \n",
      " 0   relative_compactness       768 non-null    float64\n",
      " 1   surface_area               768 non-null    float64\n",
      " 2   wall_area                  768 non-null    float64\n",
      " 3   roof_area                  768 non-null    float64\n",
      " 4   overall_height             768 non-null    float64\n",
      " 5   orientation                768 non-null    int64  \n",
      " 6   glazing_area               768 non-null    float64\n",
      " 7   glazing_area_distribution  768 non-null    int64  \n",
      " 8   heating_load               768 non-null    float64\n",
      "dtypes: float64(7), int64(2)\n",
      "memory usage: 54.1 KB\n"
     ]
    }
   ],
   "source": [
    "\n",
    "\n",
    "def check_df(dataframe, head=5):\n",
    "    print(\"##################### Shape #####################\")\n",
    "    print(dataframe.shape) # satır sütun sayısı.\n",
    "    print(\"##################### Types #####################\")\n",
    "    print(dataframe.dtypes) # değişkenleri veri tipi\n",
    "    print(\"##################### Head #####################\")\n",
    "    print(dataframe.head(head)) # veri setinde ilk 5 değişken\n",
    "    print(\"##################### Tail #####################\")\n",
    "    print(dataframe.tail(head))  #veri setinde son 5 satır\n",
    "    print(\"##################### NA #####################\")\n",
    "    print(dataframe.isnull().sum()) # Değişkenlerin boş satır sayısı.\n",
    "    print(\"##################### Quantiles #####################\")\n",
    "    print(dataframe.quantile([0, 0.05, 0.50, 0.95, 0.99, 1]).T)\n",
    "\n",
    "check_df(df)\n",
    "\n",
    "df.head()\n",
    "df.info()"
   ]
  },
  {
   "cell_type": "markdown",
   "id": "1229b3f7",
   "metadata": {},
   "source": [
    "### 1.7. Detection of Numerical and Categorical Variables in the Dataset"
   ]
  },
  {
   "cell_type": "code",
   "execution_count": 8,
   "id": "e53b25fb-681e-4b98-9940-d50ebcf5ab2c",
   "metadata": {},
   "outputs": [
    {
     "name": "stdout",
     "output_type": "stream",
     "text": [
      "Observations: 768\n",
      "Variables: 9\n",
      "cat_cols: 6\n",
      "num_cols: 3\n",
      "cat_but_car: 0\n",
      "num_but_cat: 6\n"
     ]
    }
   ],
   "source": [
    "##################################\n",
    "# CAPTURING NUMERICAL AND CATEGORICAL VARIABLES\n",
    "##################################\n",
    "\n",
    "# If a column has fewer unique values than the specified threshold (e.g., 10 as defined below), it will be treated as categorical.\n",
    "# If a column has fewer unique values than the specified threshold (e.g., 20 as defined below), it will be treated as numerical.\n",
    "def grab_col_names(dataframe, cat_th=10, car_th=20):\n",
    "    \"\"\"\n",
    "    Provides the names of categorical, numerical, and categorical but cardinal variables in the dataset.\n",
    "    Note: Numerical-looking categorical variables are also included in the categorical variables.\n",
    "\n",
    "    Parameters\n",
    "    ------\n",
    "        dataframe: dataframe\n",
    "                DataFrame from which variable names are to be taken\n",
    "        cat_th: int, optional\n",
    "                Class threshold value for numerical but categorical variables\n",
    "        car_th: int, optional\n",
    "                Class threshold value for categorical but cardinal variables\n",
    "\n",
    "    Returns\n",
    "    ------\n",
    "        cat_cols: list\n",
    "                List of categorical variables\n",
    "        num_cols: list\n",
    "                List of numerical variables\n",
    "        cat_but_car: list\n",
    "                List of categorical-looking but cardinal variables\n",
    "\n",
    "    Examples\n",
    "    ------\n",
    "        import seaborn as sns\n",
    "        df = sns.load_dataset(\"iris\")\n",
    "        print(grab_col_names(df))\n",
    "\n",
    "\n",
    "    Notes\n",
    "    ------\n",
    "        cat_cols + num_cols + cat_but_car = total number of variables\n",
    "        num_but_cat is included in cat_cols.\n",
    "\n",
    "    \"\"\"\n",
    "    # cat_cols, cat_but_car\n",
    "    cat_cols = [col for col in dataframe.columns if dataframe[col].dtypes == \"O\"]\n",
    "    num_but_cat = [col for col in dataframe.columns if dataframe[col].nunique() < cat_th and dataframe[col].dtypes != \"O\"]\n",
    "    cat_but_car = [col for col in dataframe.columns if dataframe[col].nunique() > car_th and dataframe[col].dtypes == \"O\"]\n",
    "    cat_cols = cat_cols + num_but_cat\n",
    "    cat_cols = [col for col in cat_cols if col not in cat_but_car]\n",
    "\n",
    "    # num_cols\n",
    "    num_cols = [col for col in dataframe.columns if dataframe[col].dtypes != \"O\"]\n",
    "    num_cols = [col for col in num_cols if col not in num_but_cat]\n",
    "\n",
    "    print(f\"Observations: {dataframe.shape[0]}\")\n",
    "    print(f\"Variables: {dataframe.shape[1]}\")\n",
    "    print(f'cat_cols: {len(cat_cols)}')\n",
    "    print(f'num_cols: {len(num_cols)}')\n",
    "    print(f'cat_but_car: {len(cat_but_car)}')\n",
    "    print(f'num_but_cat: {len(num_but_cat)}')\n",
    "\n",
    "    return cat_cols, num_cols, cat_but_car\n",
    "\n",
    "\n",
    "cat_cols, num_cols, cat_but_car = grab_col_names(df)\n",
    "\n",
    "\n"
   ]
  },
  {
   "cell_type": "markdown",
   "id": "d5af99c5",
   "metadata": {},
   "source": [
    "### 1.8. Examination of Categorical Variables"
   ]
  },
  {
   "cell_type": "code",
   "execution_count": 9,
   "id": "cdfb1972-f06f-4c65-b3c2-19fda9918517",
   "metadata": {},
   "outputs": [
    {
     "data": {
      "text/plain": [
       "['wall_area',\n",
       " 'roof_area',\n",
       " 'overall_height',\n",
       " 'orientation',\n",
       " 'glazing_area',\n",
       " 'glazing_area_distribution']"
      ]
     },
     "execution_count": 9,
     "metadata": {},
     "output_type": "execute_result"
    }
   ],
   "source": [
    "cat_cols"
   ]
  },
  {
   "cell_type": "markdown",
   "id": "f0301b56",
   "metadata": {},
   "source": [
    "#### 1.8.1. Distribution of Categorical Variables"
   ]
  },
  {
   "cell_type": "code",
   "execution_count": 10,
   "id": "234feb96-8c2d-4071-96cf-8b6669f95526",
   "metadata": {},
   "outputs": [],
   "source": [
    "def cat_summary(dataframe, col_name, plot=True):\n",
    "    print(pd.DataFrame({col_name: dataframe[col_name].value_counts(),\n",
    "                        \"Ratio\": 100 * dataframe[col_name].value_counts() / len(dataframe)}))\n",
    "    print(\"##########################################\")\n",
    "    \n",
    "    if plot:\n",
    "        sns.countplot(x=dataframe[col_name], data=dataframe)\n",
    "        plt.show(block=True)"
   ]
  },
  {
   "cell_type": "code",
   "execution_count": 11,
   "id": "a8bebe3b-5a30-4299-8675-6c298397ce3c",
   "metadata": {},
   "outputs": [
    {
     "name": "stdout",
     "output_type": "stream",
     "text": [
      "       wall_area      Ratio\n",
      "294.0        192  25.000000\n",
      "318.5        192  25.000000\n",
      "343.0        128  16.666667\n",
      "416.5         64   8.333333\n",
      "245.0         64   8.333333\n",
      "269.5         64   8.333333\n",
      "367.5         64   8.333333\n",
      "##########################################\n"
     ]
    },
    {
     "data": {
      "image/png": "[encoded data removed]",
      "text/plain": [
       "<Figure size 800x550 with 1 Axes>"
      ]
     },
     "metadata": {},
     "output_type": "display_data"
    },
    {
     "name": "stdout",
     "output_type": "stream",
     "text": [
      "        roof_area      Ratio\n",
      "220.50        384  50.000000\n",
      "147.00        192  25.000000\n",
      "122.50        128  16.666667\n",
      "110.25         64   8.333333\n",
      "##########################################\n"
     ]
    },
    {
     "data": {
      "image/png": "[encoded data removed]",
      "text/plain": [
       "<Figure size 800x550 with 1 Axes>"
      ]
     },
     "metadata": {},
     "output_type": "display_data"
    },
    {
     "name": "stdout",
     "output_type": "stream",
     "text": [
      "     overall_height  Ratio\n",
      "7.0             384   50.0\n",
      "3.5             384   50.0\n",
      "##########################################\n"
     ]
    },
    {
     "data": {
      "image/png": "[encoded data removed]",
      "text/plain": [
       "<Figure size 800x550 with 1 Axes>"
      ]
     },
     "metadata": {},
     "output_type": "display_data"
    },
    {
     "name": "stdout",
     "output_type": "stream",
     "text": [
      "   orientation  Ratio\n",
      "2          192   25.0\n",
      "3          192   25.0\n",
      "4          192   25.0\n",
      "5          192   25.0\n",
      "##########################################\n"
     ]
    },
    {
     "data": {
      "image/png": "[encoded data removed]",
      "text/plain": [
       "<Figure size 800x550 with 1 Axes>"
      ]
     },
     "metadata": {},
     "output_type": "display_data"
    },
    {
     "name": "stdout",
     "output_type": "stream",
     "text": [
      "      glazing_area  Ratio\n",
      "0.10           240  31.25\n",
      "0.25           240  31.25\n",
      "0.40           240  31.25\n",
      "0.00            48   6.25\n",
      "##########################################\n"
     ]
    },
    {
     "data": {
      "image/png": "[encoded data removed]",
      "text/plain": [
       "<Figure size 800x550 with 1 Axes>"
      ]
     },
     "metadata": {},
     "output_type": "display_data"
    },
    {
     "name": "stdout",
     "output_type": "stream",
     "text": [
      "   glazing_area_distribution  Ratio\n",
      "1                        144  18.75\n",
      "2                        144  18.75\n",
      "3                        144  18.75\n",
      "4                        144  18.75\n",
      "5                        144  18.75\n",
      "0                         48   6.25\n",
      "##########################################\n"
     ]
    },
    {
     "data": {
      "image/png": "[encoded data removed]",
      "text/plain": [
       "<Figure size 800x550 with 1 Axes>"
      ]
     },
     "metadata": {},
     "output_type": "display_data"
    }
   ],
   "source": [
    "for col in cat_cols:\n",
    "    cat_summary(df, col)"
   ]
  },
  {
   "cell_type": "markdown",
   "id": "6c85bb3f",
   "metadata": {},
   "source": [
    "### 1.9. Examination of Numerical Variables"
   ]
  },
  {
   "cell_type": "code",
   "execution_count": 12,
   "id": "dffcac61",
   "metadata": {},
   "outputs": [
    {
     "data": {
      "text/plain": [
       "['relative_compactness', 'surface_area', 'heating_load']"
      ]
     },
     "execution_count": 12,
     "metadata": {},
     "output_type": "execute_result"
    }
   ],
   "source": [
    "num_cols"
   ]
  },
  {
   "cell_type": "markdown",
   "id": "c77bfb84",
   "metadata": {},
   "source": [
    "#### 1.9.1.Distribution of Numerical Variables"
   ]
  },
  {
   "cell_type": "code",
   "execution_count": 13,
   "id": "8b3cb173-2210-41ed-9230-a3834ca8c61f",
   "metadata": {},
   "outputs": [],
   "source": [
    "def num_summary(dataframe, numerical_col, plot=True):\n",
    "    quantiles = [0.05, 0.10, 0.20, 0.30, 0.40, 0.50, 0.60, 0.70, 0.80, 0.90, 0.95, 0.99]\n",
    "    print(dataframe[numerical_col].describe(quantiles).T)\n",
    "\n",
    "    if plot:\n",
    "        dataframe[numerical_col].hist()\n",
    "        plt.xlabel(numerical_col)\n",
    "        plt.title(numerical_col)\n",
    "        plt.show(block=True)"
   ]
  },
  {
   "cell_type": "code",
   "execution_count": 14,
   "id": "44b28f15-508f-4bf1-85a0-50463649ab72",
   "metadata": {},
   "outputs": [
    {
     "name": "stdout",
     "output_type": "stream",
     "text": [
      "count    768.000000\n",
      "mean       0.764167\n",
      "std        0.105777\n",
      "min        0.620000\n",
      "5%         0.620000\n",
      "10%        0.640000\n",
      "20%        0.660000\n",
      "30%        0.690000\n",
      "40%        0.710000\n",
      "50%        0.750000\n",
      "60%        0.790000\n",
      "70%        0.820000\n",
      "80%        0.860000\n",
      "90%        0.900000\n",
      "95%        0.980000\n",
      "99%        0.980000\n",
      "max        0.980000\n",
      "Name: relative_compactness, dtype: float64\n"
     ]
    },
    {
     "data": {
      "image/png": "[encoded data removed]",
      "text/plain": [
       "<Figure size 800x550 with 1 Axes>"
      ]
     },
     "metadata": {},
     "output_type": "display_data"
    },
    {
     "name": "stdout",
     "output_type": "stream",
     "text": [
      "count    768.000000\n",
      "mean     671.708333\n",
      "std       88.086116\n",
      "min      514.500000\n",
      "5%       514.500000\n",
      "10%      563.500000\n",
      "20%      588.000000\n",
      "30%      612.500000\n",
      "40%      637.000000\n",
      "50%      673.750000\n",
      "60%      710.500000\n",
      "70%      735.000000\n",
      "80%      759.500000\n",
      "90%      784.000000\n",
      "95%      808.500000\n",
      "99%      808.500000\n",
      "max      808.500000\n",
      "Name: surface_area, dtype: float64\n"
     ]
    },
    {
     "data": {
      "image/png": "[encoded data removed]",
      "text/plain": [
       "<Figure size 800x550 with 1 Axes>"
      ]
     },
     "metadata": {},
     "output_type": "display_data"
    },
    {
     "name": "stdout",
     "output_type": "stream",
     "text": [
      "count    768.000000\n",
      "mean      22.307201\n",
      "std       10.090196\n",
      "min        6.010000\n",
      "5%        10.463500\n",
      "10%       11.217000\n",
      "20%       12.630000\n",
      "30%       14.320000\n",
      "40%       15.230000\n",
      "50%       18.950000\n",
      "60%       25.668000\n",
      "70%       29.089000\n",
      "80%       32.508000\n",
      "90%       36.703000\n",
      "95%       39.860000\n",
      "99%       42.089900\n",
      "max       43.100000\n",
      "Name: heating_load, dtype: float64\n"
     ]
    },
    {
     "data": {
      "image/png": "[encoded data removed]",
      "text/plain": [
       "<Figure size 800x550 with 1 Axes>"
      ]
     },
     "metadata": {},
     "output_type": "display_data"
    }
   ],
   "source": [
    "for col in num_cols:\n",
    "    num_summary(df, col, plot=True)"
   ]
  },
  {
   "cell_type": "markdown",
   "id": "7433e25a",
   "metadata": {},
   "source": [
    "### 1.10 Target Variable Analysis"
   ]
  },
  {
   "cell_type": "code",
   "execution_count": 16,
   "id": "3a82c666",
   "metadata": {},
   "outputs": [
    {
     "data": {
      "text/plain": [
       "15.16    6\n",
       "13.00    5\n",
       "15.55    4\n",
       "10.68    4\n",
       "28.15    4\n",
       "        ..\n",
       "10.47    1\n",
       "33.21    1\n",
       "36.77    1\n",
       "36.71    1\n",
       "16.64    1\n",
       "Name: heating_load, Length: 586, dtype: int64"
      ]
     },
     "execution_count": 16,
     "metadata": {},
     "output_type": "execute_result"
    }
   ],
   "source": [
    "df[\"heating_load\"].value_counts()"
   ]
  },
  {
   "cell_type": "markdown",
   "id": "252f54c2",
   "metadata": {},
   "source": [
    "\n",
    "#### 10.1.1. Analysis of the Target Variable with Categorical Variables\n"
   ]
  },
  {
   "cell_type": "code",
   "execution_count": 17,
   "id": "eb07571f",
   "metadata": {},
   "outputs": [],
   "source": [
    "def target_summary_with_cat(dataframe, target, categorical_col):\n",
    "    print(pd.DataFrame({\"TARGET_MEAN\": dataframe.groupby(categorical_col)[target].mean()}), end=\"\\n\\n\\n\")\n"
   ]
  },
  {
   "cell_type": "code",
   "execution_count": 18,
   "id": "f9f31788",
   "metadata": {},
   "outputs": [
    {
     "name": "stdout",
     "output_type": "stream",
     "text": [
      "           TARGET_MEAN\n",
      "wall_area             \n",
      "245.0        11.886719\n",
      "269.5        12.040156\n",
      "294.0        22.862604\n",
      "318.5        23.333646\n",
      "343.0        27.611641\n",
      "367.5        14.283281\n",
      "416.5        35.664219\n",
      "\n",
      "\n",
      "           TARGET_MEAN\n",
      "roof_area             \n",
      "110.25       27.646250\n",
      "122.50       33.646563\n",
      "147.00       30.905312\n",
      "220.50       13.338516\n",
      "\n",
      "\n",
      "                TARGET_MEAN\n",
      "overall_height             \n",
      "3.5               13.338516\n",
      "7.0               31.275885\n",
      "\n",
      "\n",
      "             TARGET_MEAN\n",
      "orientation             \n",
      "2              22.312865\n",
      "3              22.380677\n",
      "4              22.259896\n",
      "5              22.275365\n",
      "\n",
      "\n",
      "              TARGET_MEAN\n",
      "glazing_area             \n",
      "0.00            14.286458\n",
      "0.10            20.357167\n",
      "0.25            22.756917\n",
      "0.40            25.411667\n",
      "\n",
      "\n",
      "                           TARGET_MEAN\n",
      "glazing_area_distribution             \n",
      "0                            14.286458\n",
      "1                            23.026111\n",
      "2                            22.934444\n",
      "3                            22.681458\n",
      "4                            22.886667\n",
      "5                            22.680903\n",
      "\n",
      "\n"
     ]
    }
   ],
   "source": [
    "for col in cat_cols:\n",
    "    target_summary_with_cat(df, \"heating_load\", col)"
   ]
  },
  {
   "cell_type": "markdown",
   "id": "7830e7da",
   "metadata": {},
   "source": [
    "\n",
    "#### 10.1.2. The Analysis of Target Variable with Numerical Variables\n"
   ]
  },
  {
   "cell_type": "code",
   "execution_count": 19,
   "id": "6b033a54",
   "metadata": {},
   "outputs": [],
   "source": [
    "def target_summary_with_num(dataframe, target, numerical_col):\n",
    "    print(dataframe.groupby(target).agg({numerical_col: \"mean\"}), end=\"\\n\\n\\n\")"
   ]
  },
  {
   "cell_type": "code",
   "execution_count": 20,
   "id": "5a46e605",
   "metadata": {},
   "outputs": [
    {
     "name": "stdout",
     "output_type": "stream",
     "text": [
      "              relative_compactness\n",
      "heating_load                      \n",
      "6.01                          0.74\n",
      "6.04                          0.74\n",
      "6.05                          0.74\n",
      "6.07                          0.74\n",
      "6.37                          0.71\n",
      "...                            ...\n",
      "42.62                         0.79\n",
      "42.74                         0.79\n",
      "42.77                         0.79\n",
      "42.96                         0.79\n",
      "43.10                         0.79\n",
      "\n",
      "[586 rows x 1 columns]\n",
      "\n",
      "\n",
      "              surface_area\n",
      "heating_load              \n",
      "6.01                 686.0\n",
      "6.04                 686.0\n",
      "6.05                 686.0\n",
      "6.07                 686.0\n",
      "6.37                 710.5\n",
      "...                    ...\n",
      "42.62                637.0\n",
      "42.74                637.0\n",
      "42.77                637.0\n",
      "42.96                637.0\n",
      "43.10                637.0\n",
      "\n",
      "[586 rows x 1 columns]\n",
      "\n",
      "\n",
      "              heating_load\n",
      "heating_load              \n",
      "6.01                  6.01\n",
      "6.04                  6.04\n",
      "6.05                  6.05\n",
      "6.07                  6.07\n",
      "6.37                  6.37\n",
      "...                    ...\n",
      "42.62                42.62\n",
      "42.74                42.74\n",
      "42.77                42.77\n",
      "42.96                42.96\n",
      "43.10                43.10\n",
      "\n",
      "[586 rows x 1 columns]\n",
      "\n",
      "\n"
     ]
    }
   ],
   "source": [
    "for col in num_cols:\n",
    "    target_summary_with_num(df, \"heating_load\", col)\n",
    "\n"
   ]
  },
  {
   "cell_type": "markdown",
   "id": "324c717b",
   "metadata": {},
   "source": [
    "### 1.11. Correlation Analysis"
   ]
  },
  {
   "cell_type": "code",
   "execution_count": 21,
   "id": "0aa57a92-901f-4276-915f-fe7c59bcee19",
   "metadata": {},
   "outputs": [
    {
     "data": {
      "image/png": "[encoded data removed]",
      "text/plain": [
       "<Figure size 1200x1200 with 2 Axes>"
      ]
     },
     "metadata": {},
     "output_type": "display_data"
    }
   ],
   "source": [
    "\n",
    "num_cols = [col for col in df.columns if df[col].dtype in [int, float]]\n",
    "\n",
    "corr = df[num_cols].corr()\n",
    "\n",
    "sns.set(rc={'figure.figsize': (12, 12)})\n",
    "sns.heatmap(corr, cmap=\"RdBu\", annot=True, fmt=\".2f\")\n",
    "plt.show()\n"
   ]
  },
  {
   "cell_type": "markdown",
   "id": "d77c98a0",
   "metadata": {},
   "source": [
    "####  1.11.1. Correlation Analysis Matrix Table"
   ]
  },
  {
   "cell_type": "code",
   "execution_count": 22,
   "id": "a47f955b-19a7-495d-aee4-457e01c37d41",
   "metadata": {},
   "outputs": [
    {
     "data": {
      "text/html": [
       "<div>\n",
       "<style scoped>\n",
       "    .dataframe tbody tr th:only-of-type {\n",
       "        vertical-align: middle;\n",
       "    }\n",
       "\n",
       "    .dataframe tbody tr th {\n",
       "        vertical-align: top;\n",
       "    }\n",
       "\n",
       "    .dataframe thead th {\n",
       "        text-align: right;\n",
       "    }\n",
       "</style>\n",
       "<table border=\"1\" class=\"dataframe\">\n",
       "  <thead>\n",
       "    <tr style=\"text-align: right;\">\n",
       "      <th></th>\n",
       "      <th>relative_compactness</th>\n",
       "      <th>surface_area</th>\n",
       "      <th>wall_area</th>\n",
       "      <th>roof_area</th>\n",
       "      <th>overall_height</th>\n",
       "      <th>orientation</th>\n",
       "      <th>glazing_area</th>\n",
       "      <th>glazing_area_distribution</th>\n",
       "      <th>heating_load</th>\n",
       "    </tr>\n",
       "  </thead>\n",
       "  <tbody>\n",
       "    <tr>\n",
       "      <th>relative_compactness</th>\n",
       "      <td>1.000000e+00</td>\n",
       "      <td>9.919015e-01</td>\n",
       "      <td>2.037817e-01</td>\n",
       "      <td>8.688234e-01</td>\n",
       "      <td>8.277473e-01</td>\n",
       "      <td>4.678592e-17</td>\n",
       "      <td>2.960552e-15</td>\n",
       "      <td>7.107006e-16</td>\n",
       "      <td>0.622272</td>\n",
       "    </tr>\n",
       "    <tr>\n",
       "      <th>surface_area</th>\n",
       "      <td>9.919015e-01</td>\n",
       "      <td>1.000000e+00</td>\n",
       "      <td>1.955016e-01</td>\n",
       "      <td>8.807195e-01</td>\n",
       "      <td>8.581477e-01</td>\n",
       "      <td>3.459372e-17</td>\n",
       "      <td>3.636925e-15</td>\n",
       "      <td>2.438409e-15</td>\n",
       "      <td>0.658120</td>\n",
       "    </tr>\n",
       "    <tr>\n",
       "      <th>wall_area</th>\n",
       "      <td>2.037817e-01</td>\n",
       "      <td>1.955016e-01</td>\n",
       "      <td>1.000000e+00</td>\n",
       "      <td>2.923165e-01</td>\n",
       "      <td>2.809757e-01</td>\n",
       "      <td>2.429499e-17</td>\n",
       "      <td>8.567455e-17</td>\n",
       "      <td>2.067384e-16</td>\n",
       "      <td>0.455671</td>\n",
       "    </tr>\n",
       "    <tr>\n",
       "      <th>roof_area</th>\n",
       "      <td>8.688234e-01</td>\n",
       "      <td>8.807195e-01</td>\n",
       "      <td>2.923165e-01</td>\n",
       "      <td>1.000000e+00</td>\n",
       "      <td>9.725122e-01</td>\n",
       "      <td>5.830058e-17</td>\n",
       "      <td>1.759011e-15</td>\n",
       "      <td>1.078071e-15</td>\n",
       "      <td>0.861828</td>\n",
       "    </tr>\n",
       "    <tr>\n",
       "      <th>overall_height</th>\n",
       "      <td>8.277473e-01</td>\n",
       "      <td>8.581477e-01</td>\n",
       "      <td>2.809757e-01</td>\n",
       "      <td>9.725122e-01</td>\n",
       "      <td>1.000000e+00</td>\n",
       "      <td>4.492205e-17</td>\n",
       "      <td>1.489134e-17</td>\n",
       "      <td>2.920613e-17</td>\n",
       "      <td>0.889431</td>\n",
       "    </tr>\n",
       "    <tr>\n",
       "      <th>orientation</th>\n",
       "      <td>4.678592e-17</td>\n",
       "      <td>3.459372e-17</td>\n",
       "      <td>2.429499e-17</td>\n",
       "      <td>5.830058e-17</td>\n",
       "      <td>4.492205e-17</td>\n",
       "      <td>1.000000e+00</td>\n",
       "      <td>9.406007e-16</td>\n",
       "      <td>2.549352e-16</td>\n",
       "      <td>0.002587</td>\n",
       "    </tr>\n",
       "    <tr>\n",
       "      <th>glazing_area</th>\n",
       "      <td>2.960552e-15</td>\n",
       "      <td>3.636925e-15</td>\n",
       "      <td>8.567455e-17</td>\n",
       "      <td>1.759011e-15</td>\n",
       "      <td>1.489134e-17</td>\n",
       "      <td>9.406007e-16</td>\n",
       "      <td>1.000000e+00</td>\n",
       "      <td>2.129642e-01</td>\n",
       "      <td>0.269841</td>\n",
       "    </tr>\n",
       "    <tr>\n",
       "      <th>glazing_area_distribution</th>\n",
       "      <td>7.107006e-16</td>\n",
       "      <td>2.438409e-15</td>\n",
       "      <td>2.067384e-16</td>\n",
       "      <td>1.078071e-15</td>\n",
       "      <td>2.920613e-17</td>\n",
       "      <td>2.549352e-16</td>\n",
       "      <td>2.129642e-01</td>\n",
       "      <td>1.000000e+00</td>\n",
       "      <td>0.087368</td>\n",
       "    </tr>\n",
       "    <tr>\n",
       "      <th>heating_load</th>\n",
       "      <td>6.222722e-01</td>\n",
       "      <td>6.581202e-01</td>\n",
       "      <td>4.556712e-01</td>\n",
       "      <td>8.618283e-01</td>\n",
       "      <td>8.894307e-01</td>\n",
       "      <td>2.586534e-03</td>\n",
       "      <td>2.698410e-01</td>\n",
       "      <td>8.736759e-02</td>\n",
       "      <td>1.000000</td>\n",
       "    </tr>\n",
       "  </tbody>\n",
       "</table>\n",
       "</div>"
      ],
      "text/plain": [
       "                           relative_compactness  surface_area     wall_area  \\\n",
       "relative_compactness               1.000000e+00  9.919015e-01  2.037817e-01   \n",
       "surface_area                       9.919015e-01  1.000000e+00  1.955016e-01   \n",
       "wall_area                          2.037817e-01  1.955016e-01  1.000000e+00   \n",
       "roof_area                          8.688234e-01  8.807195e-01  2.923165e-01   \n",
       "overall_height                     8.277473e-01  8.581477e-01  2.809757e-01   \n",
       "orientation                        4.678592e-17  3.459372e-17  2.429499e-17   \n",
       "glazing_area                       2.960552e-15  3.636925e-15  8.567455e-17   \n",
       "glazing_area_distribution          7.107006e-16  2.438409e-15  2.067384e-16   \n",
       "heating_load                       6.222722e-01  6.581202e-01  4.556712e-01   \n",
       "\n",
       "                              roof_area  overall_height   orientation  \\\n",
       "relative_compactness       8.688234e-01    8.277473e-01  4.678592e-17   \n",
       "surface_area               8.807195e-01    8.581477e-01  3.459372e-17   \n",
       "wall_area                  2.923165e-01    2.809757e-01  2.429499e-17   \n",
       "roof_area                  1.000000e+00    9.725122e-01  5.830058e-17   \n",
       "overall_height             9.725122e-01    1.000000e+00  4.492205e-17   \n",
       "orientation                5.830058e-17    4.492205e-17  1.000000e+00   \n",
       "glazing_area               1.759011e-15    1.489134e-17  9.406007e-16   \n",
       "glazing_area_distribution  1.078071e-15    2.920613e-17  2.549352e-16   \n",
       "heating_load               8.618283e-01    8.894307e-01  2.586534e-03   \n",
       "\n",
       "                           glazing_area  glazing_area_distribution  \\\n",
       "relative_compactness       2.960552e-15               7.107006e-16   \n",
       "surface_area               3.636925e-15               2.438409e-15   \n",
       "wall_area                  8.567455e-17               2.067384e-16   \n",
       "roof_area                  1.759011e-15               1.078071e-15   \n",
       "overall_height             1.489134e-17               2.920613e-17   \n",
       "orientation                9.406007e-16               2.549352e-16   \n",
       "glazing_area               1.000000e+00               2.129642e-01   \n",
       "glazing_area_distribution  2.129642e-01               1.000000e+00   \n",
       "heating_load               2.698410e-01               8.736759e-02   \n",
       "\n",
       "                           heating_load  \n",
       "relative_compactness           0.622272  \n",
       "surface_area                   0.658120  \n",
       "wall_area                      0.455671  \n",
       "roof_area                      0.861828  \n",
       "overall_height                 0.889431  \n",
       "orientation                    0.002587  \n",
       "glazing_area                   0.269841  \n",
       "glazing_area_distribution      0.087368  \n",
       "heating_load                   1.000000  "
      ]
     },
     "execution_count": 22,
     "metadata": {},
     "output_type": "execute_result"
    }
   ],
   "source": [
    "#korelasyon matrisi tablosu\n",
    "cor_matrix = df.corr().abs()\n",
    "cor_matrix"
   ]
  },
  {
   "cell_type": "markdown",
   "id": "611f4cf5",
   "metadata": {},
   "source": [
    "#### 1.11.2. Correlation Analysis Matrix Table 2"
   ]
  },
  {
   "cell_type": "code",
   "execution_count": 23,
   "id": "4e7d099a-59e9-4644-bda4-8c95ab174f3e",
   "metadata": {},
   "outputs": [
    {
     "data": {
      "text/html": [
       "<div>\n",
       "<style scoped>\n",
       "    .dataframe tbody tr th:only-of-type {\n",
       "        vertical-align: middle;\n",
       "    }\n",
       "\n",
       "    .dataframe tbody tr th {\n",
       "        vertical-align: top;\n",
       "    }\n",
       "\n",
       "    .dataframe thead th {\n",
       "        text-align: right;\n",
       "    }\n",
       "</style>\n",
       "<table border=\"1\" class=\"dataframe\">\n",
       "  <thead>\n",
       "    <tr style=\"text-align: right;\">\n",
       "      <th></th>\n",
       "      <th>relative_compactness</th>\n",
       "      <th>surface_area</th>\n",
       "      <th>wall_area</th>\n",
       "      <th>roof_area</th>\n",
       "      <th>overall_height</th>\n",
       "      <th>orientation</th>\n",
       "      <th>glazing_area</th>\n",
       "      <th>glazing_area_distribution</th>\n",
       "      <th>heating_load</th>\n",
       "    </tr>\n",
       "  </thead>\n",
       "  <tbody>\n",
       "    <tr>\n",
       "      <th>relative_compactness</th>\n",
       "      <td>NaN</td>\n",
       "      <td>0.991901</td>\n",
       "      <td>0.203782</td>\n",
       "      <td>0.868823</td>\n",
       "      <td>0.827747</td>\n",
       "      <td>4.678592e-17</td>\n",
       "      <td>2.960552e-15</td>\n",
       "      <td>7.107006e-16</td>\n",
       "      <td>0.622272</td>\n",
       "    </tr>\n",
       "    <tr>\n",
       "      <th>surface_area</th>\n",
       "      <td>NaN</td>\n",
       "      <td>NaN</td>\n",
       "      <td>0.195502</td>\n",
       "      <td>0.880720</td>\n",
       "      <td>0.858148</td>\n",
       "      <td>3.459372e-17</td>\n",
       "      <td>3.636925e-15</td>\n",
       "      <td>2.438409e-15</td>\n",
       "      <td>0.658120</td>\n",
       "    </tr>\n",
       "    <tr>\n",
       "      <th>wall_area</th>\n",
       "      <td>NaN</td>\n",
       "      <td>NaN</td>\n",
       "      <td>NaN</td>\n",
       "      <td>0.292316</td>\n",
       "      <td>0.280976</td>\n",
       "      <td>2.429499e-17</td>\n",
       "      <td>8.567455e-17</td>\n",
       "      <td>2.067384e-16</td>\n",
       "      <td>0.455671</td>\n",
       "    </tr>\n",
       "    <tr>\n",
       "      <th>roof_area</th>\n",
       "      <td>NaN</td>\n",
       "      <td>NaN</td>\n",
       "      <td>NaN</td>\n",
       "      <td>NaN</td>\n",
       "      <td>0.972512</td>\n",
       "      <td>5.830058e-17</td>\n",
       "      <td>1.759011e-15</td>\n",
       "      <td>1.078071e-15</td>\n",
       "      <td>0.861828</td>\n",
       "    </tr>\n",
       "    <tr>\n",
       "      <th>overall_height</th>\n",
       "      <td>NaN</td>\n",
       "      <td>NaN</td>\n",
       "      <td>NaN</td>\n",
       "      <td>NaN</td>\n",
       "      <td>NaN</td>\n",
       "      <td>4.492205e-17</td>\n",
       "      <td>1.489134e-17</td>\n",
       "      <td>2.920613e-17</td>\n",
       "      <td>0.889431</td>\n",
       "    </tr>\n",
       "    <tr>\n",
       "      <th>orientation</th>\n",
       "      <td>NaN</td>\n",
       "      <td>NaN</td>\n",
       "      <td>NaN</td>\n",
       "      <td>NaN</td>\n",
       "      <td>NaN</td>\n",
       "      <td>NaN</td>\n",
       "      <td>9.406007e-16</td>\n",
       "      <td>2.549352e-16</td>\n",
       "      <td>0.002587</td>\n",
       "    </tr>\n",
       "    <tr>\n",
       "      <th>glazing_area</th>\n",
       "      <td>NaN</td>\n",
       "      <td>NaN</td>\n",
       "      <td>NaN</td>\n",
       "      <td>NaN</td>\n",
       "      <td>NaN</td>\n",
       "      <td>NaN</td>\n",
       "      <td>NaN</td>\n",
       "      <td>2.129642e-01</td>\n",
       "      <td>0.269841</td>\n",
       "    </tr>\n",
       "    <tr>\n",
       "      <th>glazing_area_distribution</th>\n",
       "      <td>NaN</td>\n",
       "      <td>NaN</td>\n",
       "      <td>NaN</td>\n",
       "      <td>NaN</td>\n",
       "      <td>NaN</td>\n",
       "      <td>NaN</td>\n",
       "      <td>NaN</td>\n",
       "      <td>NaN</td>\n",
       "      <td>0.087368</td>\n",
       "    </tr>\n",
       "    <tr>\n",
       "      <th>heating_load</th>\n",
       "      <td>NaN</td>\n",
       "      <td>NaN</td>\n",
       "      <td>NaN</td>\n",
       "      <td>NaN</td>\n",
       "      <td>NaN</td>\n",
       "      <td>NaN</td>\n",
       "      <td>NaN</td>\n",
       "      <td>NaN</td>\n",
       "      <td>NaN</td>\n",
       "    </tr>\n",
       "  </tbody>\n",
       "</table>\n",
       "</div>"
      ],
      "text/plain": [
       "                           relative_compactness  surface_area  wall_area  \\\n",
       "relative_compactness                        NaN      0.991901   0.203782   \n",
       "surface_area                                NaN           NaN   0.195502   \n",
       "wall_area                                   NaN           NaN        NaN   \n",
       "roof_area                                   NaN           NaN        NaN   \n",
       "overall_height                              NaN           NaN        NaN   \n",
       "orientation                                 NaN           NaN        NaN   \n",
       "glazing_area                                NaN           NaN        NaN   \n",
       "glazing_area_distribution                   NaN           NaN        NaN   \n",
       "heating_load                                NaN           NaN        NaN   \n",
       "\n",
       "                           roof_area  overall_height   orientation  \\\n",
       "relative_compactness        0.868823        0.827747  4.678592e-17   \n",
       "surface_area                0.880720        0.858148  3.459372e-17   \n",
       "wall_area                   0.292316        0.280976  2.429499e-17   \n",
       "roof_area                        NaN        0.972512  5.830058e-17   \n",
       "overall_height                   NaN             NaN  4.492205e-17   \n",
       "orientation                      NaN             NaN           NaN   \n",
       "glazing_area                     NaN             NaN           NaN   \n",
       "glazing_area_distribution        NaN             NaN           NaN   \n",
       "heating_load                     NaN             NaN           NaN   \n",
       "\n",
       "                           glazing_area  glazing_area_distribution  \\\n",
       "relative_compactness       2.960552e-15               7.107006e-16   \n",
       "surface_area               3.636925e-15               2.438409e-15   \n",
       "wall_area                  8.567455e-17               2.067384e-16   \n",
       "roof_area                  1.759011e-15               1.078071e-15   \n",
       "overall_height             1.489134e-17               2.920613e-17   \n",
       "orientation                9.406007e-16               2.549352e-16   \n",
       "glazing_area                        NaN               2.129642e-01   \n",
       "glazing_area_distribution           NaN                        NaN   \n",
       "heating_load                        NaN                        NaN   \n",
       "\n",
       "                           heating_load  \n",
       "relative_compactness           0.622272  \n",
       "surface_area                   0.658120  \n",
       "wall_area                      0.455671  \n",
       "roof_area                      0.861828  \n",
       "overall_height                 0.889431  \n",
       "orientation                    0.002587  \n",
       "glazing_area                   0.269841  \n",
       "glazing_area_distribution      0.087368  \n",
       "heating_load                        NaN  "
      ]
     },
     "execution_count": 23,
     "metadata": {},
     "output_type": "execute_result"
    }
   ],
   "source": [
    "upper_triangle_matrix = cor_matrix.where(np.triu(np.ones(cor_matrix.shape), k=1).astype(bool))\n",
    "upper_triangle_matrix"
   ]
  },
  {
   "cell_type": "markdown",
   "id": "8b231d3a",
   "metadata": {},
   "source": [
    "## Section 2"
   ]
  },
  {
   "cell_type": "markdown",
   "id": "7dcecfbc",
   "metadata": {},
   "source": [
    "## 2. Feature Enginerring"
   ]
  },
  {
   "cell_type": "markdown",
   "id": "aad2eeaf",
   "metadata": {},
   "source": [
    "### 2.1. Outlier Analysis"
   ]
  },
  {
   "cell_type": "markdown",
   "id": "199f2aac",
   "metadata": {},
   "source": [
    "#### 2.1.1. Defining the IQR (Interquartile Range) Function for Boxplot Method"
   ]
  },
  {
   "cell_type": "code",
   "execution_count": 64,
   "id": "6dbd8da5-e3cd-4348-be9e-57a3c82cccf5",
   "metadata": {},
   "outputs": [],
   "source": [
    "def outlier_thresholds(dataframe, col_name, q1=0.25, q3=0.75):\n",
    "    quartile1 = dataframe[col_name].quantile(q1)\n",
    "    quartile3 = dataframe[col_name].quantile(q3)\n",
    "    interquantile_range = quartile3 - quartile1\n",
    "    up_limit = quartile3 + 1.5 * interquantile_range\n",
    "    low_limit = quartile1 - 1.5 * interquantile_range\n",
    "    return low_limit, up_limit"
   ]
  },
  {
   "cell_type": "markdown",
   "id": "b6a2a694",
   "metadata": {},
   "source": [
    "#### 2.1.2. Determining the Lower and Upper Limits of IQR"
   ]
  },
  {
   "cell_type": "code",
   "execution_count": 65,
   "id": "674cdd92-6124-4668-9d8e-7cf5d6c64b21",
   "metadata": {},
   "outputs": [],
   "source": [
    "def check_outlier(dataframe, col_name):\n",
    "    low_limit, up_limit = outlier_thresholds(dataframe, col_name)\n",
    "    if dataframe[(dataframe[col_name] > up_limit) | (dataframe[col_name] < low_limit)].any(axis=None):\n",
    "        return True\n",
    "    else:\n",
    "        return False\n"
   ]
  },
  {
   "cell_type": "markdown",
   "id": "758a4eb2",
   "metadata": {},
   "source": [
    "#### 2.1.3. Variables with Outliers"
   ]
  },
  {
   "cell_type": "code",
   "execution_count": 66,
   "id": "0dbf0e78-74d9-43d9-a1e9-4c3b4e26d037",
   "metadata": {},
   "outputs": [
    {
     "name": "stdout",
     "output_type": "stream",
     "text": [
      "bagil_kompaktlik False\n",
      "yuzey_alani False\n",
      "duvar_alani False\n",
      "cati_alani False\n",
      "toplam_yukseklik False\n",
      "cam_alani False\n",
      "isitma_yuku False\n"
     ]
    }
   ],
   "source": [
    "for col in num_cols:\n",
    "    print(col, check_outlier(df, col))"
   ]
  },
  {
   "cell_type": "markdown",
   "id": "f62900d0",
   "metadata": {},
   "source": [
    "### 2.2. Missing Values"
   ]
  },
  {
   "cell_type": "code",
   "execution_count": 67,
   "id": "c17e4ac5",
   "metadata": {},
   "outputs": [
    {
     "data": {
      "text/plain": [
       "False"
      ]
     },
     "execution_count": 67,
     "metadata": {},
     "output_type": "execute_result"
    }
   ],
   "source": [
    "df.isnull().values.any()"
   ]
  },
  {
   "cell_type": "code",
   "execution_count": 68,
   "id": "00ec73a1",
   "metadata": {},
   "outputs": [
    {
     "data": {
      "text/plain": [
       "0"
      ]
     },
     "execution_count": 68,
     "metadata": {},
     "output_type": "execute_result"
    }
   ],
   "source": [
    "df.isnull().sum().sum()# eksik veri sayısı"
   ]
  },
  {
   "cell_type": "markdown",
   "id": "e73e1897",
   "metadata": {},
   "source": [
    "eksik verimiz yok."
   ]
  },
  {
   "cell_type": "markdown",
   "id": "f457b8a0",
   "metadata": {},
   "source": [
    "### 2.3. Encoding"
   ]
  },
  {
   "cell_type": "code",
   "execution_count": 69,
   "id": "b0985a7d",
   "metadata": {},
   "outputs": [
    {
     "data": {
      "text/html": [
       "<div>\n",
       "<style scoped>\n",
       "    .dataframe tbody tr th:only-of-type {\n",
       "        vertical-align: middle;\n",
       "    }\n",
       "\n",
       "    .dataframe tbody tr th {\n",
       "        vertical-align: top;\n",
       "    }\n",
       "\n",
       "    .dataframe thead th {\n",
       "        text-align: right;\n",
       "    }\n",
       "</style>\n",
       "<table border=\"1\" class=\"dataframe\">\n",
       "  <thead>\n",
       "    <tr style=\"text-align: right;\">\n",
       "      <th></th>\n",
       "      <th>bagil_kompaktlik</th>\n",
       "      <th>yuzey_alani</th>\n",
       "      <th>toplam_yukseklik</th>\n",
       "      <th>isitma_yuku</th>\n",
       "      <th>duvar_alani_269.5</th>\n",
       "      <th>duvar_alani_294.0</th>\n",
       "      <th>duvar_alani_318.5</th>\n",
       "      <th>duvar_alani_343.0</th>\n",
       "      <th>duvar_alani_367.5</th>\n",
       "      <th>duvar_alani_416.5</th>\n",
       "      <th>...</th>\n",
       "      <th>oryantasyon_4</th>\n",
       "      <th>oryantasyon_5</th>\n",
       "      <th>cam_alani_0.1</th>\n",
       "      <th>cam_alani_0.25</th>\n",
       "      <th>cam_alani_0.4</th>\n",
       "      <th>cam_alani_dagilimi_1</th>\n",
       "      <th>cam_alani_dagilimi_2</th>\n",
       "      <th>cam_alani_dagilimi_3</th>\n",
       "      <th>cam_alani_dagilimi_4</th>\n",
       "      <th>cam_alani_dagilimi_5</th>\n",
       "    </tr>\n",
       "  </thead>\n",
       "  <tbody>\n",
       "    <tr>\n",
       "      <th>0</th>\n",
       "      <td>0.98</td>\n",
       "      <td>514.5</td>\n",
       "      <td>7.0</td>\n",
       "      <td>15.55</td>\n",
       "      <td>0</td>\n",
       "      <td>1</td>\n",
       "      <td>0</td>\n",
       "      <td>0</td>\n",
       "      <td>0</td>\n",
       "      <td>0</td>\n",
       "      <td>...</td>\n",
       "      <td>0</td>\n",
       "      <td>0</td>\n",
       "      <td>0</td>\n",
       "      <td>0</td>\n",
       "      <td>0</td>\n",
       "      <td>0</td>\n",
       "      <td>0</td>\n",
       "      <td>0</td>\n",
       "      <td>0</td>\n",
       "      <td>0</td>\n",
       "    </tr>\n",
       "    <tr>\n",
       "      <th>1</th>\n",
       "      <td>0.98</td>\n",
       "      <td>514.5</td>\n",
       "      <td>7.0</td>\n",
       "      <td>15.55</td>\n",
       "      <td>0</td>\n",
       "      <td>1</td>\n",
       "      <td>0</td>\n",
       "      <td>0</td>\n",
       "      <td>0</td>\n",
       "      <td>0</td>\n",
       "      <td>...</td>\n",
       "      <td>0</td>\n",
       "      <td>0</td>\n",
       "      <td>0</td>\n",
       "      <td>0</td>\n",
       "      <td>0</td>\n",
       "      <td>0</td>\n",
       "      <td>0</td>\n",
       "      <td>0</td>\n",
       "      <td>0</td>\n",
       "      <td>0</td>\n",
       "    </tr>\n",
       "    <tr>\n",
       "      <th>2</th>\n",
       "      <td>0.98</td>\n",
       "      <td>514.5</td>\n",
       "      <td>7.0</td>\n",
       "      <td>15.55</td>\n",
       "      <td>0</td>\n",
       "      <td>1</td>\n",
       "      <td>0</td>\n",
       "      <td>0</td>\n",
       "      <td>0</td>\n",
       "      <td>0</td>\n",
       "      <td>...</td>\n",
       "      <td>1</td>\n",
       "      <td>0</td>\n",
       "      <td>0</td>\n",
       "      <td>0</td>\n",
       "      <td>0</td>\n",
       "      <td>0</td>\n",
       "      <td>0</td>\n",
       "      <td>0</td>\n",
       "      <td>0</td>\n",
       "      <td>0</td>\n",
       "    </tr>\n",
       "    <tr>\n",
       "      <th>3</th>\n",
       "      <td>0.98</td>\n",
       "      <td>514.5</td>\n",
       "      <td>7.0</td>\n",
       "      <td>15.55</td>\n",
       "      <td>0</td>\n",
       "      <td>1</td>\n",
       "      <td>0</td>\n",
       "      <td>0</td>\n",
       "      <td>0</td>\n",
       "      <td>0</td>\n",
       "      <td>...</td>\n",
       "      <td>0</td>\n",
       "      <td>1</td>\n",
       "      <td>0</td>\n",
       "      <td>0</td>\n",
       "      <td>0</td>\n",
       "      <td>0</td>\n",
       "      <td>0</td>\n",
       "      <td>0</td>\n",
       "      <td>0</td>\n",
       "      <td>0</td>\n",
       "    </tr>\n",
       "    <tr>\n",
       "      <th>4</th>\n",
       "      <td>0.90</td>\n",
       "      <td>563.5</td>\n",
       "      <td>7.0</td>\n",
       "      <td>20.84</td>\n",
       "      <td>0</td>\n",
       "      <td>0</td>\n",
       "      <td>1</td>\n",
       "      <td>0</td>\n",
       "      <td>0</td>\n",
       "      <td>0</td>\n",
       "      <td>...</td>\n",
       "      <td>0</td>\n",
       "      <td>0</td>\n",
       "      <td>0</td>\n",
       "      <td>0</td>\n",
       "      <td>0</td>\n",
       "      <td>0</td>\n",
       "      <td>0</td>\n",
       "      <td>0</td>\n",
       "      <td>0</td>\n",
       "      <td>0</td>\n",
       "    </tr>\n",
       "  </tbody>\n",
       "</table>\n",
       "<p>5 rows × 24 columns</p>\n",
       "</div>"
      ],
      "text/plain": [
       "   bagil_kompaktlik  yuzey_alani  toplam_yukseklik  isitma_yuku  \\\n",
       "0              0.98        514.5               7.0        15.55   \n",
       "1              0.98        514.5               7.0        15.55   \n",
       "2              0.98        514.5               7.0        15.55   \n",
       "3              0.98        514.5               7.0        15.55   \n",
       "4              0.90        563.5               7.0        20.84   \n",
       "\n",
       "   duvar_alani_269.5  duvar_alani_294.0  duvar_alani_318.5  duvar_alani_343.0  \\\n",
       "0                  0                  1                  0                  0   \n",
       "1                  0                  1                  0                  0   \n",
       "2                  0                  1                  0                  0   \n",
       "3                  0                  1                  0                  0   \n",
       "4                  0                  0                  1                  0   \n",
       "\n",
       "   duvar_alani_367.5  duvar_alani_416.5  ...  oryantasyon_4  oryantasyon_5  \\\n",
       "0                  0                  0  ...              0              0   \n",
       "1                  0                  0  ...              0              0   \n",
       "2                  0                  0  ...              1              0   \n",
       "3                  0                  0  ...              0              1   \n",
       "4                  0                  0  ...              0              0   \n",
       "\n",
       "   cam_alani_0.1  cam_alani_0.25  cam_alani_0.4  cam_alani_dagilimi_1  \\\n",
       "0              0               0              0                     0   \n",
       "1              0               0              0                     0   \n",
       "2              0               0              0                     0   \n",
       "3              0               0              0                     0   \n",
       "4              0               0              0                     0   \n",
       "\n",
       "   cam_alani_dagilimi_2  cam_alani_dagilimi_3  cam_alani_dagilimi_4  \\\n",
       "0                     0                     0                     0   \n",
       "1                     0                     0                     0   \n",
       "2                     0                     0                     0   \n",
       "3                     0                     0                     0   \n",
       "4                     0                     0                     0   \n",
       "\n",
       "   cam_alani_dagilimi_5  \n",
       "0                     0  \n",
       "1                     0  \n",
       "2                     0  \n",
       "3                     0  \n",
       "4                     0  \n",
       "\n",
       "[5 rows x 24 columns]"
      ]
     },
     "execution_count": 69,
     "metadata": {},
     "output_type": "execute_result"
    }
   ],
   "source": [
    "def one_hot_encoder(dataframe, categorical_cols, drop_first=True):\n",
    "    dataframe = pd.get_dummies(dataframe, columns=categorical_cols, drop_first=drop_first)\n",
    "    return dataframe\n",
    "\n",
    "\n",
    "# cat_cols, num_cols, cat_but_car = grab_col_names(df)\n",
    "\n",
    "ohe_cols = [col for col in df.columns if 10 >= df[col].nunique() > 2]\n",
    "\n",
    "\n",
    "one_hot_encoder(df, ohe_cols).head()"
   ]
  },
  {
   "cell_type": "markdown",
   "id": "2de2abcf",
   "metadata": {},
   "source": [
    "### 2.4. Feature Scaling"
   ]
  },
  {
   "cell_type": "code",
   "execution_count": 70,
   "id": "709c0080-1943-460c-a492-df21e56824cd",
   "metadata": {},
   "outputs": [],
   "source": [
    "y = df[\"isitma_yuku\"]\n",
    "X = df.drop([\"isitma_yuku\"], axis=1)"
   ]
  },
  {
   "cell_type": "code",
   "execution_count": 71,
   "id": "ecb02028-5048-4b6d-bcd7-738a9c17d827",
   "metadata": {},
   "outputs": [
    {
     "data": {
      "text/plain": [
       "0    15.55\n",
       "1    15.55\n",
       "2    15.55\n",
       "3    15.55\n",
       "4    20.84\n",
       "Name: isitma_yuku, dtype: float64"
      ]
     },
     "execution_count": 71,
     "metadata": {},
     "output_type": "execute_result"
    }
   ],
   "source": [
    "y.head()"
   ]
  },
  {
   "cell_type": "code",
   "execution_count": 72,
   "id": "01992e88-a3ae-429c-95b8-e7649d299510",
   "metadata": {},
   "outputs": [],
   "source": [
    "scaler= RobustScaler()\n",
    "df[X.columns.to_list()]=scaler.fit_transform(df[X.columns.to_list()])"
   ]
  },
  {
   "cell_type": "code",
   "execution_count": 73,
   "id": "def9737f-8e7b-4aed-9eab-eef1f7455b1a",
   "metadata": {
    "scrolled": true
   },
   "outputs": [
    {
     "data": {
      "text/html": [
       "<div>\n",
       "<style scoped>\n",
       "    .dataframe tbody tr th:only-of-type {\n",
       "        vertical-align: middle;\n",
       "    }\n",
       "\n",
       "    .dataframe tbody tr th {\n",
       "        vertical-align: top;\n",
       "    }\n",
       "\n",
       "    .dataframe thead th {\n",
       "        text-align: right;\n",
       "    }\n",
       "</style>\n",
       "<table border=\"1\" class=\"dataframe\">\n",
       "  <thead>\n",
       "    <tr style=\"text-align: right;\">\n",
       "      <th></th>\n",
       "      <th>bagil_kompaktlik</th>\n",
       "      <th>yuzey_alani</th>\n",
       "      <th>duvar_alani</th>\n",
       "      <th>cati_alani</th>\n",
       "      <th>toplam_yukseklik</th>\n",
       "      <th>oryantasyon</th>\n",
       "      <th>cam_alani</th>\n",
       "      <th>cam_alani_dagilimi</th>\n",
       "      <th>isitma_yuku</th>\n",
       "    </tr>\n",
       "  </thead>\n",
       "  <tbody>\n",
       "    <tr>\n",
       "      <th>0</th>\n",
       "      <td>1.559322</td>\n",
       "      <td>-1.181818</td>\n",
       "      <td>-0.5</td>\n",
       "      <td>-0.923077</td>\n",
       "      <td>0.5</td>\n",
       "      <td>-1.000000</td>\n",
       "      <td>-0.833333</td>\n",
       "      <td>-1.333333</td>\n",
       "      <td>15.55</td>\n",
       "    </tr>\n",
       "    <tr>\n",
       "      <th>1</th>\n",
       "      <td>1.559322</td>\n",
       "      <td>-1.181818</td>\n",
       "      <td>-0.5</td>\n",
       "      <td>-0.923077</td>\n",
       "      <td>0.5</td>\n",
       "      <td>-0.333333</td>\n",
       "      <td>-0.833333</td>\n",
       "      <td>-1.333333</td>\n",
       "      <td>15.55</td>\n",
       "    </tr>\n",
       "    <tr>\n",
       "      <th>2</th>\n",
       "      <td>1.559322</td>\n",
       "      <td>-1.181818</td>\n",
       "      <td>-0.5</td>\n",
       "      <td>-0.923077</td>\n",
       "      <td>0.5</td>\n",
       "      <td>0.333333</td>\n",
       "      <td>-0.833333</td>\n",
       "      <td>-1.333333</td>\n",
       "      <td>15.55</td>\n",
       "    </tr>\n",
       "    <tr>\n",
       "      <th>3</th>\n",
       "      <td>1.559322</td>\n",
       "      <td>-1.181818</td>\n",
       "      <td>-0.5</td>\n",
       "      <td>-0.923077</td>\n",
       "      <td>0.5</td>\n",
       "      <td>1.000000</td>\n",
       "      <td>-0.833333</td>\n",
       "      <td>-1.333333</td>\n",
       "      <td>15.55</td>\n",
       "    </tr>\n",
       "    <tr>\n",
       "      <th>4</th>\n",
       "      <td>1.016949</td>\n",
       "      <td>-0.818182</td>\n",
       "      <td>0.0</td>\n",
       "      <td>-0.769231</td>\n",
       "      <td>0.5</td>\n",
       "      <td>-1.000000</td>\n",
       "      <td>-0.833333</td>\n",
       "      <td>-1.333333</td>\n",
       "      <td>20.84</td>\n",
       "    </tr>\n",
       "  </tbody>\n",
       "</table>\n",
       "</div>"
      ],
      "text/plain": [
       "   bagil_kompaktlik  yuzey_alani  duvar_alani  cati_alani  toplam_yukseklik  \\\n",
       "0          1.559322    -1.181818         -0.5   -0.923077               0.5   \n",
       "1          1.559322    -1.181818         -0.5   -0.923077               0.5   \n",
       "2          1.559322    -1.181818         -0.5   -0.923077               0.5   \n",
       "3          1.559322    -1.181818         -0.5   -0.923077               0.5   \n",
       "4          1.016949    -0.818182          0.0   -0.769231               0.5   \n",
       "\n",
       "   oryantasyon  cam_alani  cam_alani_dagilimi  isitma_yuku  \n",
       "0    -1.000000  -0.833333           -1.333333        15.55  \n",
       "1    -0.333333  -0.833333           -1.333333        15.55  \n",
       "2     0.333333  -0.833333           -1.333333        15.55  \n",
       "3     1.000000  -0.833333           -1.333333        15.55  \n",
       "4    -1.000000  -0.833333           -1.333333        20.84  "
      ]
     },
     "execution_count": 73,
     "metadata": {},
     "output_type": "execute_result"
    }
   ],
   "source": [
    "df.head()"
   ]
  },
  {
   "cell_type": "markdown",
   "id": "d812d755",
   "metadata": {},
   "source": [
    "## SECTİON 3"
   ]
  },
  {
   "cell_type": "markdown",
   "id": "c67f09c3-69ae-44e7-9875-b34d7bf1c607",
   "metadata": {},
   "source": [
    "## 3. MODEL SETUP AND TRAINING"
   ]
  },
  {
   "cell_type": "code",
   "execution_count": 74,
   "id": "680e8b26",
   "metadata": {},
   "outputs": [],
   "source": [
    "import joblib #machine learning model kayıt.\n",
    "from sklearn.linear_model import LinearRegression\n",
    "from sklearn.neighbors import KNeighborsRegressor\n",
    "from sklearn.svm import SVR\n",
    "from sklearn.tree import DecisionTreeRegressor\n",
    "from sklearn.ensemble import RandomForestRegressor, AdaBoostRegressor, GradientBoostingRegressor\n",
    "from xgboost import XGBRegressor\n",
    "from lightgbm import LGBMRegressor\n",
    "from sklearn.model_selection import cross_validate\n",
    "import numpy as np\n",
    "from sklearn.model_selection import GridSearchCV\n",
    "\n",
    "from sklearn.metrics import mean_squared_error\n",
    "from math import sqrt"
   ]
  },
  {
   "cell_type": "markdown",
   "id": "bcc1d626",
   "metadata": {},
   "source": [
    "### 3.1. Splitting into Training - Validation - Test datasets"
   ]
  },
  {
   "cell_type": "code",
   "execution_count": 75,
   "id": "2a9aa34d-2d65-439b-8644-33f92be20a1e",
   "metadata": {},
   "outputs": [],
   "source": [
    "from sklearn.model_selection import train_test_split\n",
    "\n",
    "# Splitting the dataset into train and test sets\n",
    "X_train, X_temp, y_train, y_temp = train_test_split(X, y, test_size=0.2, random_state=17)\n",
    "\n",
    "# Splitting the remaining dataset into validation and test sets\n",
    "X_validation, X_test, y_validation, y_test = train_test_split(X_temp, y_temp, test_size=0.5, random_state=17)\n"
   ]
  },
  {
   "cell_type": "code",
   "execution_count": 76,
   "id": "80bb6f7b-87b3-46fc-9235-a1e3ddf1fbc8",
   "metadata": {},
   "outputs": [
    {
     "data": {
      "text/html": [
       "<div>\n",
       "<style scoped>\n",
       "    .dataframe tbody tr th:only-of-type {\n",
       "        vertical-align: middle;\n",
       "    }\n",
       "\n",
       "    .dataframe tbody tr th {\n",
       "        vertical-align: top;\n",
       "    }\n",
       "\n",
       "    .dataframe thead th {\n",
       "        text-align: right;\n",
       "    }\n",
       "</style>\n",
       "<table border=\"1\" class=\"dataframe\">\n",
       "  <thead>\n",
       "    <tr style=\"text-align: right;\">\n",
       "      <th></th>\n",
       "      <th>bagil_kompaktlik</th>\n",
       "      <th>yuzey_alani</th>\n",
       "      <th>duvar_alani</th>\n",
       "      <th>cati_alani</th>\n",
       "      <th>toplam_yukseklik</th>\n",
       "      <th>oryantasyon</th>\n",
       "      <th>cam_alani</th>\n",
       "      <th>cam_alani_dagilimi</th>\n",
       "    </tr>\n",
       "  </thead>\n",
       "  <tbody>\n",
       "    <tr>\n",
       "      <th>679</th>\n",
       "      <td>0.90</td>\n",
       "      <td>563.5</td>\n",
       "      <td>318.5</td>\n",
       "      <td>122.5</td>\n",
       "      <td>7.0</td>\n",
       "      <td>5</td>\n",
       "      <td>0.40</td>\n",
       "      <td>4</td>\n",
       "    </tr>\n",
       "    <tr>\n",
       "      <th>134</th>\n",
       "      <td>0.66</td>\n",
       "      <td>759.5</td>\n",
       "      <td>318.5</td>\n",
       "      <td>220.5</td>\n",
       "      <td>3.5</td>\n",
       "      <td>4</td>\n",
       "      <td>0.10</td>\n",
       "      <td>2</td>\n",
       "    </tr>\n",
       "    <tr>\n",
       "      <th>250</th>\n",
       "      <td>0.86</td>\n",
       "      <td>588.0</td>\n",
       "      <td>294.0</td>\n",
       "      <td>147.0</td>\n",
       "      <td>7.0</td>\n",
       "      <td>4</td>\n",
       "      <td>0.10</td>\n",
       "      <td>5</td>\n",
       "    </tr>\n",
       "    <tr>\n",
       "      <th>470</th>\n",
       "      <td>0.66</td>\n",
       "      <td>759.5</td>\n",
       "      <td>318.5</td>\n",
       "      <td>220.5</td>\n",
       "      <td>3.5</td>\n",
       "      <td>4</td>\n",
       "      <td>0.25</td>\n",
       "      <td>4</td>\n",
       "    </tr>\n",
       "    <tr>\n",
       "      <th>668</th>\n",
       "      <td>0.62</td>\n",
       "      <td>808.5</td>\n",
       "      <td>367.5</td>\n",
       "      <td>220.5</td>\n",
       "      <td>3.5</td>\n",
       "      <td>2</td>\n",
       "      <td>0.40</td>\n",
       "      <td>3</td>\n",
       "    </tr>\n",
       "  </tbody>\n",
       "</table>\n",
       "</div>"
      ],
      "text/plain": [
       "     bagil_kompaktlik  yuzey_alani  duvar_alani  cati_alani  toplam_yukseklik  \\\n",
       "679              0.90        563.5        318.5       122.5               7.0   \n",
       "134              0.66        759.5        318.5       220.5               3.5   \n",
       "250              0.86        588.0        294.0       147.0               7.0   \n",
       "470              0.66        759.5        318.5       220.5               3.5   \n",
       "668              0.62        808.5        367.5       220.5               3.5   \n",
       "\n",
       "     oryantasyon  cam_alani  cam_alani_dagilimi  \n",
       "679            5       0.40                   4  \n",
       "134            4       0.10                   2  \n",
       "250            4       0.10                   5  \n",
       "470            4       0.25                   4  \n",
       "668            2       0.40                   3  "
      ]
     },
     "execution_count": 76,
     "metadata": {},
     "output_type": "execute_result"
    }
   ],
   "source": [
    "X_train.head()"
   ]
  },
  {
   "cell_type": "code",
   "execution_count": 77,
   "id": "e2ac5f52-5781-4523-acab-99a90bd3ebb2",
   "metadata": {},
   "outputs": [
    {
     "data": {
      "text/plain": [
       "bagil_kompaktlik      614\n",
       "yuzey_alani           614\n",
       "duvar_alani           614\n",
       "cati_alani            614\n",
       "toplam_yukseklik      614\n",
       "oryantasyon           614\n",
       "cam_alani             614\n",
       "cam_alani_dagilimi    614\n",
       "dtype: int64"
      ]
     },
     "execution_count": 77,
     "metadata": {},
     "output_type": "execute_result"
    }
   ],
   "source": [
    "X_train.count()"
   ]
  },
  {
   "cell_type": "code",
   "execution_count": 78,
   "id": "2414832a-313d-49eb-8410-e0ee12f3df0b",
   "metadata": {},
   "outputs": [
    {
     "data": {
      "text/plain": [
       "bagil_kompaktlik      77\n",
       "yuzey_alani           77\n",
       "duvar_alani           77\n",
       "cati_alani            77\n",
       "toplam_yukseklik      77\n",
       "oryantasyon           77\n",
       "cam_alani             77\n",
       "cam_alani_dagilimi    77\n",
       "dtype: int64"
      ]
     },
     "execution_count": 78,
     "metadata": {},
     "output_type": "execute_result"
    }
   ],
   "source": [
    "X_test.count()"
   ]
  },
  {
   "cell_type": "markdown",
   "id": "36db6536",
   "metadata": {},
   "source": [
    "### 3.2. Setting up Base Models"
   ]
  },
  {
   "cell_type": "code",
   "execution_count": 79,
   "id": "56b64d80",
   "metadata": {},
   "outputs": [],
   "source": [
    "def base_models_regression(X, y, scoring=\"neg_mean_squared_error\"):\n",
    "    print(\"Base Models for Regression....\")\n",
    "    regressors = [('Linear Regression', LinearRegression()),\n",
    "                  (\"SVR\", SVR()),\n",
    "                  (\"Decision Tree\", DecisionTreeRegressor()),\n",
    "                  (\"Random Forest\", RandomForestRegressor()),\n",
    "                  ('Adaboost Regressor', AdaBoostRegressor()),\n",
    "                  ('Gradient Boosting Regressor', GradientBoostingRegressor()),\n",
    "                  ('XGBoost Regressor', XGBRegressor(use_label_encoder=False, eval_metric='logloss')),\n",
    "                  ('LightGBM Regressor', LGBMRegressor())]\n",
    "\n",
    "    for name, regressor in regressors:\n",
    "        cv_results = cross_validate(regressor, X, y, cv=3, scoring=scoring)\n",
    "        print(f\"{scoring}: {round(np.abs(cv_results['test_score'].mean()), 4)} ({name}) \")\n",
    "\n",
    "\n",
    "# base_models_regression(X_reg, y_reg, scoring=\"neg_mean_squared_error\")\n"
   ]
  },
  {
   "cell_type": "code",
   "execution_count": 80,
   "id": "1af3df73",
   "metadata": {},
   "outputs": [
    {
     "name": "stdout",
     "output_type": "stream",
     "text": [
      "Base Models for Regression....\n",
      "neg_mean_squared_error: 9.425 (Linear Regression) \n",
      "neg_mean_squared_error: 39.0207 (SVR) \n",
      "neg_mean_squared_error: 0.4035 (Decision Tree) \n",
      "neg_mean_squared_error: 0.3327 (Random Forest) \n",
      "neg_mean_squared_error: 3.5043 (Adaboost Regressor) \n",
      "neg_mean_squared_error: 0.2492 (Gradient Boosting Regressor) \n",
      "neg_mean_squared_error: 0.1932 (XGBoost Regressor) \n",
      "neg_mean_squared_error: 0.3298 (LightGBM Regressor) \n"
     ]
    }
   ],
   "source": [
    "base_models_regression(X_train, y_train, scoring=\"neg_mean_squared_error\")"
   ]
  },
  {
   "cell_type": "markdown",
   "id": "37afaf41",
   "metadata": {},
   "source": [
    "### 3.3. Hyperparameter Optimization"
   ]
  },
  {
   "cell_type": "code",
   "execution_count": 81,
   "id": "2150ad53",
   "metadata": {},
   "outputs": [],
   "source": [
    "\n",
    "cart_params = {'max_depth': range(1, 20),\n",
    "               \"min_samples_split\": range(2, 30)}\n",
    "\n",
    "rf_params = {\"max_depth\": [8, 15, None],\n",
    "             \"max_features\": [5, 7, \"auto\"],\n",
    "             \"min_samples_split\": [15, 20],\n",
    "             \"n_estimators\": [200, 300]}\n",
    "\n",
    "xgboost_params = {\"learning_rate\": [0.1, 0.01],\n",
    "                  \"max_depth\": [5, 8],\n",
    "                  \"n_estimators\": [100, 200],\n",
    "                  \"colsample_bytree\": [0.5, 1]}\n",
    "\n",
    "lightgbm_params = {\"learning_rate\": [0.01, 0.1],\n",
    "                   \"n_estimators\": [300, 500],\n",
    "                   \"colsample_bytree\": [0.7, 1]}\n",
    "\n",
    "regressors = [(\"Decision Tree\", DecisionTreeRegressor(), cart_params),\n",
    "               (\"Random Forest\", RandomForestRegressor(), rf_params),\n",
    "               ('XGBoost Regressor', XGBRegressor(use_label_encoder=False, eval_metric='logloss'), xgboost_params),\n",
    "               ('LightGBM Regressor', LGBMRegressor(), lightgbm_params)]"
   ]
  },
  {
   "cell_type": "code",
   "execution_count": 82,
   "id": "cab7e280",
   "metadata": {},
   "outputs": [],
   "source": [
    "from sklearn.model_selection import GridSearchCV\n",
    "def hyperparameter_optimization(X, y, cv=3, scoring=\"neg_mean_squared_error\"):\n",
    "    print(\"Hyperparameter Optimization....\")\n",
    "    best_models = {}\n",
    "    for name, regressor, params in regressors:\n",
    "        print(f\"########## {name} ##########\")\n",
    "        cv_results = cross_validate(regressor, X, y, cv=cv, scoring=scoring)\n",
    "        print(f\"{scoring} (Before): {round(cv_results['test_score'].mean(), 4)}\")\n",
    "\n",
    "        gs_best = GridSearchCV(regressor, params, cv=cv, n_jobs=-1, verbose=False).fit(X, y)\n",
    "        final_model = regressor.set_params(**gs_best.best_params_)\n",
    "\n",
    "        cv_results = cross_validate(final_model, X, y, cv=cv, scoring=scoring)\n",
    "        print(f\"{scoring} (After): {round(cv_results['test_score'].mean(), 4)}\")\n",
    "        print(f\"{name} best params: {gs_best.best_params_}\", end=\"\\n\\n\")\n",
    "        best_models[name] = final_model\n",
    "    return best_models"
   ]
  },
  {
   "cell_type": "code",
   "execution_count": 84,
   "id": "0aa04552",
   "metadata": {},
   "outputs": [
    {
     "name": "stdout",
     "output_type": "stream",
     "text": [
      "Hyperparameter Optimization....\n",
      "########## Decision Tree ##########\n",
      "neg_mean_squared_error (Before): -0.364\n",
      "neg_mean_squared_error (After): -0.3633\n",
      "Decision Tree best params: {'max_depth': 7, 'min_samples_split': 4}\n",
      "\n",
      "########## Random Forest ##########\n",
      "neg_mean_squared_error (Before): -0.8642\n",
      "neg_mean_squared_error (After): -0.8309\n",
      "Random Forest best params: {'max_depth': None, 'max_features': 5, 'min_samples_split': 15, 'n_estimators': 200}\n",
      "\n",
      "########## XGBoost Regressor ##########\n",
      "neg_mean_squared_error (Before): -0.1762\n",
      "neg_mean_squared_error (After): -0.1762\n",
      "XGBoost Regressor best params: {'colsample_bytree': 1, 'learning_rate': 0.1, 'max_depth': 5, 'n_estimators': 200}\n",
      "\n",
      "########## LightGBM Regressor ##########\n",
      "neg_mean_squared_error (Before): -0.2252\n",
      "neg_mean_squared_error (After): -0.2252\n",
      "LightGBM Regressor best params: {'colsample_bytree': 0.7, 'learning_rate': 0.1, 'n_estimators': 500}\n",
      "\n"
     ]
    }
   ],
   "source": [
    "best_models=hyperparameter_optimization(X_train,y_train)"
   ]
  },
  {
   "cell_type": "markdown",
   "id": "37cdea55",
   "metadata": {},
   "source": [
    "### 3.4. Ensemble Model Created from the Best Models\n"
   ]
  },
  {
   "cell_type": "code",
   "execution_count": 94,
   "id": "b8778cc9",
   "metadata": {},
   "outputs": [],
   "source": [
    "from sklearn.ensemble import VotingRegressor\n",
    "from sklearn.model_selection import cross_validate\n",
    "from sklearn.metrics import mean_squared_error\n",
    "\n",
    "def voting_regressor(best_models, X, y):\n",
    "    print(\"Voting Regressor...\")\n",
    "    voting_reg = VotingRegressor(estimators=[('Decision Tree', best_models[\"Decision Tree\"]), ('Random Fores', best_models[\"Random Forest\"]),\n",
    "                                             ('LightGBM Regressor', best_models[\"LightGBM Regressor\"])],\n",
    "                                 n_jobs=-1).fit(X, y)\n",
    "    \n",
    "    cv_results = cross_validate(voting_reg, X, y, cv=3, scoring=\"neg_mean_squared_error\")\n",
    "    \n",
    "    neg_mse_mean = -cv_results['test_score'].mean()\n",
    "    \n",
    "    print(f\"Negative Mean Squared Error: {neg_mse_mean}\")\n",
    "    \n",
    "    return voting_reg"
   ]
  },
  {
   "cell_type": "code",
   "execution_count": 86,
   "id": "8c23be5d",
   "metadata": {},
   "outputs": [
    {
     "data": {
      "text/plain": [
       "{'Decision Tree': DecisionTreeRegressor(max_depth=7, min_samples_split=4),\n",
       " 'Random Forest': RandomForestRegressor(max_features=5, min_samples_split=15, n_estimators=200),\n",
       " 'XGBoost Regressor': XGBRegressor(base_score=None, booster=None, callbacks=None,\n",
       "              colsample_bylevel=None, colsample_bynode=None, colsample_bytree=1,\n",
       "              early_stopping_rounds=None, enable_categorical=False,\n",
       "              eval_metric='logloss', feature_types=None, gamma=None, gpu_id=None,\n",
       "              grow_policy=None, importance_type=None,\n",
       "              interaction_constraints=None, learning_rate=0.1, max_bin=None,\n",
       "              max_cat_threshold=None, max_cat_to_onehot=None,\n",
       "              max_delta_step=None, max_depth=5, max_leaves=None,\n",
       "              min_child_weight=None, missing=nan, monotone_constraints=None,\n",
       "              n_estimators=200, n_jobs=None, num_parallel_tree=None,\n",
       "              predictor=None, random_state=None, ...),\n",
       " 'LightGBM Regressor': LGBMRegressor(colsample_bytree=0.7, n_estimators=500)}"
      ]
     },
     "execution_count": 86,
     "metadata": {},
     "output_type": "execute_result"
    }
   ],
   "source": [
    "best_models"
   ]
  },
  {
   "cell_type": "code",
   "execution_count": 87,
   "id": "ab6f1e30",
   "metadata": {},
   "outputs": [
    {
     "name": "stdout",
     "output_type": "stream",
     "text": [
      "Voting Regressor...\n",
      "Negative Mean Squared Error: 0.30176178905167905\n"
     ]
    }
   ],
   "source": [
    "voting_reg=voting_regressor(best_models,X_train,y_train)"
   ]
  },
  {
   "cell_type": "markdown",
   "id": "1eeff646",
   "metadata": {},
   "source": [
    "### 3.5. Error Rate in the Most Successful Model"
   ]
  },
  {
   "cell_type": "code",
   "execution_count": 88,
   "id": "66be5205",
   "metadata": {},
   "outputs": [],
   "source": [
    "train_pred=voting_reg.predict(X_train)\n",
    "val_pred=voting_reg.predict(X_validation)\n",
    "test_pred=voting_reg.predict(X_test)"
   ]
  },
  {
   "cell_type": "code",
   "execution_count": 89,
   "id": "bd93a1e9",
   "metadata": {},
   "outputs": [],
   "source": [
    "def calculate_rmse_for_custom_splits(y_true_train, y_pred_train,y_true_val, y_pred_val, y_true_test, y_pred_test):\n",
    "    \"\"\"\n",
    "    Calculates RMSE for given true and predicted values.\n",
    "\n",
    "    Parameters:\n",
    "    - y_true_train: True values in the training set\n",
    "    - y_pred_train: Predicted values in the training set\n",
    "    - y_true_val: True values in the validation set\n",
    "    - y_pred_val: Predicted values in the validation set\n",
    "    - y_true_test: True values in the test set\n",
    "    - y_pred_test: Predicted values in the test set\n",
    "\n",
    "    Returns:\n",
    "    - train_rmse: RMSE for the training set\n",
    "    - val_rmse: RMSE for the validation set\n",
    "    - test_rmse: RMSE for the test set\n",
    "    \"\"\"\n",
    "\n",
    "    # Calculate RMSE for the training set\n",
    "    train_rmse = sqrt(mean_squared_error(y_true_train, y_pred_train))\n",
    "\n",
    "    # Calculate RMSE for the validation set\n",
    "    val_rmse = sqrt(mean_squared_error(y_true_val, y_pred_val))\n",
    "\n",
    "    # Calculate RMSE for the test set\n",
    "    test_rmse = sqrt(mean_squared_error(y_true_test, y_pred_test))\n",
    "\n",
    "    print(f\"Train RMSE: {train_rmse}\")\n",
    "    print(f\"Validation RMSE: {val_rmse}\")\n",
    "    print(f\"Test RMSE: {test_rmse}\")\n"
   ]
  },
  {
   "cell_type": "code",
   "execution_count": 90,
   "id": "ba5c7646",
   "metadata": {},
   "outputs": [
    {
     "name": "stdout",
     "output_type": "stream",
     "text": [
      "Train RMSE: 0.3467118367305679\n",
      "Validation RMSE: 0.4283289649245472\n",
      "Test RMSE: 0.3665326592630858\n"
     ]
    }
   ],
   "source": [
    "calculate_rmse_for_custom_splits(y_train, train_pred,y_validation, val_pred, y_test, test_pred)"
   ]
  },
  {
   "cell_type": "markdown",
   "id": "407e631a",
   "metadata": {},
   "source": [
    "### 3.6. Model Logging\n"
   ]
  },
  {
   "cell_type": "code",
   "execution_count": 91,
   "id": "06a1402d",
   "metadata": {},
   "outputs": [
    {
     "data": {
      "text/plain": [
       "['vot ing_clf2.pkl']"
      ]
     },
     "execution_count": 91,
     "metadata": {},
     "output_type": "execute_result"
    }
   ],
   "source": [
    "joblib.dump(voting_reg, \"vot ing_clf2.pkl\")"
   ]
  },
  {
   "cell_type": "markdown",
   "id": "5d256c90",
   "metadata": {},
   "source": [
    "### 3.7. Model Invocation"
   ]
  },
  {
   "cell_type": "code",
   "execution_count": 92,
   "id": "0b21f418",
   "metadata": {},
   "outputs": [
    {
     "data": {
      "text/plain": [
       "array([24.40102776])"
      ]
     },
     "execution_count": 92,
     "metadata": {},
     "output_type": "execute_result"
    }
   ],
   "source": [
    "random_user = X.sample(1, random_state=45)\n",
    "new_model = joblib.load(\"voting_clf2.pkl\")\n",
    "new_model.predict(random_user)\n"
   ]
  }
 ],
 "metadata": {
  "kernelspec": {
   "display_name": "Python 3 (ipykernel)",
   "language": "python",
   "name": "python3"
  },
  "language_info": {
   "codemirror_mode": {
    "name": "ipython",
    "version": 3
   },
   "file_extension": ".py",
   "mimetype": "text/x-python",
   "name": "python",
   "nbconvert_exporter": "python",
   "pygments_lexer": "ipython3",
   "version": "3.9.13"
  }
 },
 "nbformat": 4,
 "nbformat_minor": 5
}
